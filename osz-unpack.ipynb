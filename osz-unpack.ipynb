{
  "cells": [
    {
      "attachments": {},
      "cell_type": "markdown",
      "metadata": {
        "id": "afCCJ_u00BNY"
      },
      "source": [
        "# Osu Dataset Maker\n",
        "\n",
        "**How To Use**\n",
        "\n",
        "\n",
        "*   Make 'osu_dataset' folder.\n",
        "*   Put .osz files downloaded from osu beatmap website into the folder.\n",
        "*   Run the code.\n",
        "\n",
        "\n",
        "\n",
        "\n",
        "**File Name Format**\n",
        "\n",
        "\n",
        "*   {setId}-{star_rating}-{key_count}.osu\n",
        "\n",
        "*   {setId}.mp3\n",
        "  *  {setId} : beatmap set id (can search in osu beatmap website by this id)\n",
        "  *  {key_count} : number of using keys\n",
        "  *  {star_rating} : osu ★ difficulty\n",
        " \n",
        "*  ex) 443632-163-4.osu \n",
        " *  ID 443632\n",
        " *  ★ 1.63\n",
        " *  4 key \n",
        "\n",
        "※ Each songs can have more than 1 beatmap.\n",
        "(different difficulty or key)\n"
      ]
    },
    {
      "cell_type": "code",
      "execution_count": 1,
      "metadata": {
        "id": "lWNi5qIqz5cU"
      },
      "outputs": [],
      "source": [
        "# import libraries\n",
        "\n",
        "import os\n",
        "import zipfile\n",
        "import re\n",
        "import requests\n",
        "import time\n",
        "import http.client\n",
        "from pathlib import Path\n",
        "from bs4 import BeautifulSoup\n",
        "from tqdm.auto import tqdm\n",
        "from utils import move_file"
      ]
    },
    {
      "cell_type": "code",
      "execution_count": 3,
      "metadata": {},
      "outputs": [],
      "source": [
        "# Test: rename all ZIP to OSU\n",
        "\n",
        "zips = Path('osu_dataset').glob('*.zip')\n",
        "for zip in zips:\n",
        "    zip.rename(zip.with_suffix('.osz'))"
      ]
    },
    {
      "cell_type": "code",
      "execution_count": 6,
      "metadata": {
        "id": "5Fn_TOf-BRd-"
      },
      "outputs": [],
      "source": [
        "'''\n",
        "Functions for\n",
        "1. unzip .osz files\n",
        "2. rename .osu .mp3 files\n",
        "'''\n",
        "\n",
        "def unzip_osz(osz_fn_list, output_path:Path, star_rating_upper_bound=400):\n",
        "  excluded_path = output_path / 'excluded/'\n",
        "  excluded_path.mkdir(exist_ok=True)\n",
        "\n",
        "  zip_path = output_path / 'zip/'\n",
        "  zip_path.mkdir(exist_ok=True)\n",
        "\n",
        "  skipped_path = output_path / 'skipped'\n",
        "  skipped_path.mkdir(exist_ok=True)\n",
        "\n",
        "  for fn in tqdm(osz_fn_list):\n",
        "    # Change .osz to .zip\n",
        "    zip_fn = fn.with_suffix('.zip')\n",
        "    fn.rename(zip_fn)\n",
        "\n",
        "    # Unzip .zip\n",
        "    unzipped_audio_fns = []\n",
        "    unzipped_osu_fns = []\n",
        "    with zipfile.ZipFile(zip_fn, 'r') as zip_ref:\n",
        "      for file in zip_ref.namelist():\n",
        "        if file.endswith('.mp3') or file.endswith('.ogg') or file.endswith('.wav') or file.endswith('.MP3') or file.endswith('.WAV') or file.endswith('.OGG'):\n",
        "          zip_ref.extract(file, output_path)\n",
        "          unzipped_audio_fns.append(output_path / file)\n",
        "        elif file.endswith('.osu'):\n",
        "          zip_ref.extract(file, output_path)\n",
        "          unzipped_osu_fns.append(output_path / file)\n",
        "    move_file(zip_fn, zip_path / zip_fn.name)\n",
        "    \n",
        "    audio_fn, _, setId, _ = get_info(unzipped_osu_fns[0])\n",
        "    audio_fn = output_path / audio_fn\n",
        "    for f in unzipped_audio_fns:\n",
        "      if f != audio_fn:\n",
        "        f.unlink()\n",
        "\n",
        "    new_audio_fn = output_path / (setId + audio_fn.suffix)\n",
        "    move_file(audio_fn, new_audio_fn)\n",
        "\n",
        "    for osu_fn in unzipped_osu_fns:\n",
        "      audio_fn, mode, setId, id = get_info(osu_fn)\n",
        "      if mode != '3':\n",
        "        osu_fn.unlink()\n",
        "      else:\n",
        "        star_rating, key_count = crawl(setId, id)\n",
        "        if star_rating == -1:\n",
        "          print(f'Crawl error: {osu_fn.name}')\n",
        "          move_file(osu_fn, skipped_path / osu_fn.name)\n",
        "          continue\n",
        "        if len(star_rating) == 1:\n",
        "          star_rating = star_rating + '00'\n",
        "        elif len(star_rating) == 2:\n",
        "          star_rating = star_rating + '0'\n",
        "        \n",
        "        new_osu_fn = output_path / f'{setId}-{star_rating}-{key_count}.osu'\n",
        "        move_file(osu_fn, new_osu_fn)\n",
        "\n",
        "        if int(star_rating) > int(star_rating_upper_bound):\n",
        "          move_file(new_osu_fn, excluded_path / new_osu_fn.name)\n",
        "\n",
        "def get_info(osu_fn):\n",
        "  with open(osu_fn, mode='r', encoding='utf-8') as f:\n",
        "      raw_content = f.read().splitlines()\n",
        "\n",
        "  start_index = raw_content.index('[General]')\n",
        "  mode = re.sub(r\"\\D\", \"\", raw_content[start_index + 7])\n",
        "  audio_fn = raw_content[start_index + 1][15:]\n",
        "\n",
        "  start_index = raw_content.index('[Metadata]')\n",
        "  setId = re.sub(r\"\\D\", \"\", raw_content[start_index + 10])\n",
        "  id = re.sub(r\"\\D\", \"\", raw_content[start_index + 9])\n",
        "\n",
        "  return audio_fn, mode, setId, id\n",
        "  \n",
        "# get infos from web\n",
        "def crawl(setId, id):\n",
        "  try:\n",
        "    # response = requests.get(\n",
        "    #     url='https://app.scrapingbee.com/api/v1/',\n",
        "    #     params={\n",
        "    #         'api_key': 'P4QN19DR7W73O8U0ZYE8W2ECLUZJ5X6F322K7N2CDS6D8ON16VARHYZI8ER3J79WUE80KWK91WY3MQU1',\n",
        "    #         'url': f'https://osu.ppy.sh/beatmapsets/{setId}#mania/{id}', \n",
        "    #         'wait': '200' \n",
        "    #     },\n",
        "    # )\n",
        "    # soup = BeautifulSoup(response.content)\n",
        "    conn = http.client.HTTPSConnection(\"api.scrapingant.com\")\n",
        "    conn.request(\"GET\", f\"/v2/general?url=https%3A%2F%2Fosu.ppy.sh%2Fbeatmapsets%2F{setId}%23mania%2F{id}&x-api-key=ebb087837ed7450e8557976d9fcc19f6&browser=false\")\n",
        "    res = conn.getresponse()\n",
        "    data = res.read().decode(\"utf-8\")\n",
        "    soup = BeautifulSoup(data)\n",
        "    # find datas\n",
        "    text =soup.find('script', attrs={\"id\" : \"json-beatmapset\"}).get_text()\n",
        "\n",
        "    idx =text.find(str(id))\n",
        "    sr_idx = text[:idx].rfind(\"diff\")\n",
        "    kc_idx = text[idx:].find(\"cs\")+idx\n",
        "\n",
        "    star_rating = text[sr_idx-1:sr_idx+23]\n",
        "    key_count = text[kc_idx-1:kc_idx+5]\n",
        "    return re.sub(r\"\\D\", \"\", star_rating), re.sub(r\"\\D\", \"\", key_count)\n",
        "  except BaseException as e:\n",
        "    print(e)\n",
        "    return -1, -1"
      ]
    },
    {
      "cell_type": "code",
      "execution_count": 9,
      "metadata": {},
      "outputs": [],
      "source": [
        "def convert_osu(osu_fn_list, output_path:Path, star_rating_upper_bound=400):\n",
        "    excluded_path = output_path / 'excluded/'\n",
        "    excluded_path.mkdir(exist_ok=True)\n",
        "\n",
        "    skipped_path = output_path / 'skipped/'\n",
        "    skipped_path.mkdir(exist_ok=True)\n",
        "\n",
        "    for osu_fn in tqdm(osu_fn_list):\n",
        "        audio_fn, mode, setId, id = get_info(osu_fn)\n",
        "        audio_fn = output_path / audio_fn\n",
        "\n",
        "        if mode != '3':\n",
        "            osu_fn.unlink()\n",
        "            continue\n",
        "\n",
        "        star_rating, key_count = crawl(setId, id)\n",
        "        if star_rating == -1:\n",
        "            print(f'ERROR Crawl failed: {osu_fn.name}')\n",
        "            move_file(osu_fn, skipped_path / osu_fn.name)\n",
        "            continue\n",
        "\n",
        "        if len(star_rating) == 1:\n",
        "            star_rating = star_rating + '00'\n",
        "        elif len(star_rating) == 2:\n",
        "            star_rating = star_rating + '0'\n",
        "\n",
        "        new_audio_fn = output_path / (setId + audio_fn.suffix)\n",
        "        if not new_audio_fn.exists():\n",
        "            print(f'WARN audio not found: f{new_audio_fn.name}')\n",
        "\n",
        "        new_osu_fn = output_path / f'{setId}-{star_rating}-{key_count}.osu'\n",
        "        move_file(osu_fn, new_osu_fn)\n",
        "\n",
        "        if int(star_rating) > int(star_rating_upper_bound):\n",
        "            move_file(new_osu_fn, excluded_path / new_osu_fn.name)"
      ]
    },
    {
      "cell_type": "code",
      "execution_count": 2,
      "metadata": {},
      "outputs": [
        {
          "name": "stdout",
          "output_type": "stream",
          "text": [
            "<Response [200]>\n"
          ]
        }
      ],
      "source": [
        "response = requests.get(\n",
        "        url='https://app.scrapingbee.com/api/v1/',\n",
        "        params={\n",
        "            'api_key': 'P4QN19DR7W73O8U0ZYE8W2ECLUZJ5X6F322K7N2CDS6D8ON16VARHYZI8ER3J79WUE80KWK91WY3MQU1',\n",
        "            'url': f'https://osu.ppy.sh/beatmapsets/1865663#mania/3850209', \n",
        "            'wait': '200'\n",
        "        },\n",
        "    )\n",
        "print(response)"
      ]
    },
    {
      "cell_type": "code",
      "execution_count": 3,
      "metadata": {},
      "outputs": [
        {
          "data": {
            "application/vnd.jupyter.widget-view+json": {
              "model_id": "5e6e93dfc0734f77a5ca15d8308f78d1",
              "version_major": 2,
              "version_minor": 0
            },
            "text/plain": [
              "  0%|          | 0/138 [00:00<?, ?it/s]"
            ]
          },
          "metadata": {},
          "output_type": "display_data"
        },
        {
          "name": "stdout",
          "output_type": "stream",
          "text": [
            "'NoneType' object has no attribute 'get_text'\n",
            "Crawl error: nekodex - circles! (FAMoss) [normal!].osu\n",
            "'NoneType' object has no attribute 'get_text'\n",
            "Crawl error: Camellia feat. Nanahira - Versus! (Cut Ver.) (Rhezie) [Fight!].osu\n",
            "'NoneType' object has no attribute 'get_text'\n",
            "Crawl error: capitaro - Tenshinranman Haikara Hime (Syadow-) [MX].osu\n"
          ]
        }
      ],
      "source": [
        "unzip_osz(sorted(list(Path('osu_dataset/').glob('*.osz'))), Path('osu_dataset/'))"
      ]
    },
    {
      "cell_type": "code",
      "execution_count": 10,
      "metadata": {},
      "outputs": [
        {
          "data": {
            "application/vnd.jupyter.widget-view+json": {
              "model_id": "369bd04cca614de4954fda8e60e4673f",
              "version_major": 2,
              "version_minor": 0
            },
            "text/plain": [
              "  0%|          | 0/116 [00:00<?, ?it/s]"
            ]
          },
          "metadata": {},
          "output_type": "display_data"
        }
      ],
      "source": [
        "convert_osu(sorted(list(Path('osu_dataset/skipped/').glob('*.osu'))), Path('osu_dataset/'))"
      ]
    }
  ],
  "metadata": {
    "colab": {
      "collapsed_sections": [
        "7PaXuzFcRZpu"
      ],
      "provenance": []
    },
    "kernelspec": {
      "display_name": "Python 3",
      "name": "python3"
    },
    "language_info": {
      "codemirror_mode": {
        "name": "ipython",
        "version": 3
      },
      "file_extension": ".py",
      "mimetype": "text/x-python",
      "name": "python",
      "nbconvert_exporter": "python",
      "pygments_lexer": "ipython3",
      "version": "3.10.11"
    }
  },
  "nbformat": 4,
  "nbformat_minor": 0
}
