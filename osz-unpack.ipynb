{
  "cells": [
    {
      "attachments": {},
      "cell_type": "markdown",
      "metadata": {
        "id": "afCCJ_u00BNY"
      },
      "source": [
        "# Osu Dataset Maker\n",
        "\n",
        "**How To Use**\n",
        "\n",
        "\n",
        "*   Make 'osu_dataset' folder.\n",
        "*   Put .osz files downloaded from osu beatmap website into the folder.\n",
        "*   Run the code.\n",
        "\n",
        "\n",
        "\n",
        "\n",
        "**File Name Format**\n",
        "\n",
        "\n",
        "*   {setId}-{star_rating}-{key_count}.osu\n",
        "\n",
        "*   {setId}.mp3\n",
        "  *  {setId} : beatmap set id (can search in osu beatmap website by this id)\n",
        "  *  {key_count} : number of using keys\n",
        "  *  {star_rating} : osu ★ difficulty\n",
        " \n",
        "*  ex) 443632-163-4.osu \n",
        " *  ID 443632\n",
        " *  ★ 1.63\n",
        " *  4 key \n",
        "\n",
        "※ Each songs can have more than 1 beatmap.\n",
        "(different difficulty or key)\n"
      ]
    },
    {
      "cell_type": "code",
      "execution_count": 1,
      "metadata": {
        "id": "lWNi5qIqz5cU"
      },
      "outputs": [
        {
          "name": "stderr",
          "output_type": "stream",
          "text": [
            "c:\\Users\\step_\\.pyenv\\pyenv-win\\versions\\3.10.11\\lib\\site-packages\\tqdm\\auto.py:21: TqdmWarning: IProgress not found. Please update jupyter and ipywidgets. See https://ipywidgets.readthedocs.io/en/stable/user_install.html\n",
            "  from .autonotebook import tqdm as notebook_tqdm\n"
          ]
        }
      ],
      "source": [
        "# import libraries\n",
        "\n",
        "import os\n",
        "import zipfile\n",
        "import re\n",
        "import requests\n",
        "import time\n",
        "import http.client\n",
        "from pathlib import Path\n",
        "from bs4 import BeautifulSoup\n",
        "from tqdm.auto import tqdm"
      ]
    },
    {
      "cell_type": "code",
      "execution_count": 5,
      "metadata": {
        "id": "tDPN3H6J9_8j"
      },
      "outputs": [],
      "source": [
        "# input the folder path\n",
        "\n",
        "folder_path = Path('osu_dataset/') # <== folder path name"
      ]
    },
    {
      "cell_type": "code",
      "execution_count": 6,
      "metadata": {},
      "outputs": [],
      "source": [
        "osz_fns = sorted(list(folder_path.glob('*.osz')))"
      ]
    },
    {
      "cell_type": "code",
      "execution_count": 2,
      "metadata": {},
      "outputs": [],
      "source": [
        "# Test: rename all ZIP to OSU\n",
        "\n",
        "zips = Path('osu_dataset').glob('*.zip')\n",
        "for zip in zips:\n",
        "    zip.rename(zip.with_suffix('.osz'))"
      ]
    },
    {
      "cell_type": "code",
      "execution_count": 2,
      "metadata": {
        "id": "5Fn_TOf-BRd-"
      },
      "outputs": [],
      "source": [
        "'''\n",
        "Functions for\n",
        "1. unzip .osz files\n",
        "2. rename .osu .mp3 files\n",
        "'''\n",
        "\n",
        "def unzip_osz(osz_fn_list, output_path:Path, star_rating_upper_bound=400):\n",
        "  excluded_path = output_path / 'excluded/'\n",
        "  excluded_path.mkdir(exist_ok=True)\n",
        "\n",
        "  zip_path = output_path / 'zip/'\n",
        "  zip_path.mkdir(exist_ok=True)\n",
        "\n",
        "  skipped_path = output_path / 'skipped'\n",
        "  skipped_path.mkdir(exist_ok=True)\n",
        "\n",
        "  for fn in tqdm(osz_fn_list):\n",
        "    # Change .osz to .zip\n",
        "    zip_fn = fn.with_suffix('.zip')\n",
        "    fn.rename(zip_fn)\n",
        "\n",
        "    # Unzip .zip\n",
        "    unzipped_audio_fns = []\n",
        "    unzipped_osu_fns = []\n",
        "    with zipfile.ZipFile(zip_fn, 'r') as zip_ref:\n",
        "      for file in zip_ref.namelist():\n",
        "        if file.endswith('.mp3') or file.endswith('.ogg') or file.endswith('.wav'):\n",
        "          zip_ref.extract(file, output_path)\n",
        "          unzipped_audio_fns.append(output_path / file)\n",
        "        elif file.endswith('.osu'):\n",
        "          zip_ref.extract(file, output_path)\n",
        "          unzipped_osu_fns.append(output_path / file)\n",
        "    zip_fn.rename(zip_path / zip_fn.name)\n",
        "    \n",
        "    audio_fn, _, setId, _ = get_info(unzipped_osu_fns[0])\n",
        "    audio_fn = output_path / audio_fn\n",
        "    for f in unzipped_audio_fns:\n",
        "      if f != audio_fn:\n",
        "        f.unlink()\n",
        "    audio_fn.rename(output_path / (setId + audio_fn.suffix))\n",
        "\n",
        "    for osu_fn in unzipped_osu_fns:\n",
        "      audio_fn, mode, setId, id = get_info(osu_fn)\n",
        "      if mode != '3':\n",
        "        osu_fn.unlink()\n",
        "      else:\n",
        "        star_rating, key_count = crawl(setId, id)\n",
        "        if star_rating == -1:\n",
        "          print(f'Crawl error: {osu_fn.name}')\n",
        "          osu_fn.rename(skipped_path / osu_fn.name)\n",
        "          continue\n",
        "        if len(star_rating) == 1:\n",
        "          star_rating = int(star_rating + '00')\n",
        "        elif len(star_rating) == 2:\n",
        "          star_rating = int(star_rating + '0')\n",
        "        else:\n",
        "          star_rating = int(star_rating)\n",
        "        \n",
        "        new_osu_fn = output_path / f'{setId}-{star_rating}-{key_count}.osu'\n",
        "        try:\n",
        "          osu_fn.rename(new_osu_fn)\n",
        "        except:\n",
        "          new_osu_fn = output_path / f'{setId}-{star_rating}-{key_count}-{id}.osu'\n",
        "        if star_rating > star_rating_upper_bound:\n",
        "          new_osu_fn.rename(excluded_path / new_osu_fn.name)\n",
        "\n",
        "# get infos from .osu file and web( using crawler() function below )\n",
        "\n",
        "def get_info(osu_fn):\n",
        "  with open(osu_fn, mode='r', encoding='utf-8') as f:\n",
        "      raw_content = f.read().splitlines()\n",
        "\n",
        "  start_index = raw_content.index('[General]')\n",
        "  mode = re.sub(r\"\\D\", \"\", raw_content[start_index + 7])\n",
        "  audio_fn = raw_content[start_index + 1][15:]\n",
        "\n",
        "  start_index = raw_content.index('[Metadata]')\n",
        "  setId = re.sub(r\"\\D\", \"\", raw_content[start_index + 10])\n",
        "  id = re.sub(r\"\\D\", \"\", raw_content[start_index + 9])\n",
        "\n",
        "  return audio_fn, mode, setId, id\n",
        "  \n",
        "# get infos from web\n",
        "def crawl(setId, id):\n",
        "  try:\n",
        "    conn = http.client.HTTPSConnection(\"api.scrapingant.com\")\n",
        "    conn.request(\"GET\", f\"/v2/general?url=https%3A%2F%2Fosu.ppy.sh%2Fbeatmapsets%2F{setId}%23mania%2F{id}&x-api-key=ebb087837ed7450e8557976d9fcc19f6\")\n",
        "    res = conn.getresponse()\n",
        "    data = res.read().decode(\"utf-8\")\n",
        "    soup = BeautifulSoup(data, \"html.parser\")\n",
        "    # find datas\n",
        "    text =soup.find('script', attrs={\"id\" : \"json-beatmapset\"}).get_text()\n",
        "\n",
        "    idx =text.find(str(id))\n",
        "    sr_idx = text[:idx].rfind(\"diff\")\n",
        "    kc_idx = text[idx:].find(\"cs\")+idx\n",
        "\n",
        "    star_rating = text[sr_idx-1:sr_idx+23]\n",
        "    key_count = text[kc_idx-1:kc_idx+5]\n",
        "    return re.sub(r\"\\D\", \"\", star_rating), re.sub(r\"\\D\", \"\", key_count)\n",
        "  except:\n",
        "    return -1, -1"
      ]
    },
    {
      "cell_type": "code",
      "execution_count": 3,
      "metadata": {},
      "outputs": [
        {
          "name": "stderr",
          "output_type": "stream",
          "text": [
            " 12%|█▏        | 44/372 [55:02<7:28:50, 82.11s/it] "
          ]
        },
        {
          "name": "stdout",
          "output_type": "stream",
          "text": [
            "Crawl error: Masayoshi Minoshima - Bad Apple!! (REDALiCE Remix) (Evening) [Lv.8 4K].osu\n"
          ]
        },
        {
          "name": "stderr",
          "output_type": "stream",
          "text": [
            " 21%|██        | 78/372 [1:41:18<7:19:51, 89.77s/it]  "
          ]
        },
        {
          "name": "stdout",
          "output_type": "stream",
          "text": [
            "Crawl error: Meg & Dia - Monster (DotEXE Remix) (nold_1702) [Zillah's 4K Normal].osu\n"
          ]
        },
        {
          "name": "stderr",
          "output_type": "stream",
          "text": [
            " 31%|███       | 115/372 [2:44:39<6:07:59, 85.91s/it]  \n"
          ]
        },
        {
          "ename": "FileNotFoundError",
          "evalue": "[WinError 2] The system cannot find the file specified: 'osu_dataset\\\\Canon Rock (JerryC) - The Original.mp3' -> 'osu_dataset\\\\203734.mp3'",
          "output_type": "error",
          "traceback": [
            "\u001b[1;31m---------------------------------------------------------------------------\u001b[0m",
            "\u001b[1;31mFileNotFoundError\u001b[0m                         Traceback (most recent call last)",
            "Cell \u001b[1;32mIn[3], line 1\u001b[0m\n\u001b[1;32m----> 1\u001b[0m unzip_osz(\u001b[39msorted\u001b[39;49m(\u001b[39mlist\u001b[39;49m(Path(\u001b[39m'\u001b[39;49m\u001b[39mosu_dataset/\u001b[39;49m\u001b[39m'\u001b[39;49m)\u001b[39m.\u001b[39;49mglob(\u001b[39m'\u001b[39;49m\u001b[39m*.osz\u001b[39;49m\u001b[39m'\u001b[39;49m))), Path(\u001b[39m'\u001b[39;49m\u001b[39mosu_dataset/\u001b[39;49m\u001b[39m'\u001b[39;49m))\n",
            "Cell \u001b[1;32mIn[2], line 40\u001b[0m, in \u001b[0;36munzip_osz\u001b[1;34m(osz_fn_list, output_path, star_rating_upper_bound)\u001b[0m\n\u001b[0;32m     38\u001b[0m   \u001b[39mif\u001b[39;00m f \u001b[39m!=\u001b[39m audio_fn:\n\u001b[0;32m     39\u001b[0m     f\u001b[39m.\u001b[39munlink()\n\u001b[1;32m---> 40\u001b[0m audio_fn\u001b[39m.\u001b[39;49mrename(output_path \u001b[39m/\u001b[39;49m (setId \u001b[39m+\u001b[39;49m audio_fn\u001b[39m.\u001b[39;49msuffix))\n\u001b[0;32m     42\u001b[0m \u001b[39mfor\u001b[39;00m osu_fn \u001b[39min\u001b[39;00m unzipped_osu_fns:\n\u001b[0;32m     43\u001b[0m   audio_fn, mode, setId, \u001b[39mid\u001b[39m \u001b[39m=\u001b[39m get_info(osu_fn)\n",
            "File \u001b[1;32mc:\\Users\\step_\\.pyenv\\pyenv-win\\versions\\3.10.11\\lib\\pathlib.py:1234\u001b[0m, in \u001b[0;36mPath.rename\u001b[1;34m(self, target)\u001b[0m\n\u001b[0;32m   1224\u001b[0m \u001b[39mdef\u001b[39;00m \u001b[39mrename\u001b[39m(\u001b[39mself\u001b[39m, target):\n\u001b[0;32m   1225\u001b[0m \u001b[39m    \u001b[39m\u001b[39m\"\"\"\u001b[39;00m\n\u001b[0;32m   1226\u001b[0m \u001b[39m    Rename this path to the target path.\u001b[39;00m\n\u001b[0;32m   1227\u001b[0m \n\u001b[1;32m   (...)\u001b[0m\n\u001b[0;32m   1232\u001b[0m \u001b[39m    Returns the new Path instance pointing to the target path.\u001b[39;00m\n\u001b[0;32m   1233\u001b[0m \u001b[39m    \"\"\"\u001b[39;00m\n\u001b[1;32m-> 1234\u001b[0m     \u001b[39mself\u001b[39;49m\u001b[39m.\u001b[39;49m_accessor\u001b[39m.\u001b[39;49mrename(\u001b[39mself\u001b[39;49m, target)\n\u001b[0;32m   1235\u001b[0m     \u001b[39mreturn\u001b[39;00m \u001b[39mself\u001b[39m\u001b[39m.\u001b[39m\u001b[39m__class__\u001b[39m(target)\n",
            "\u001b[1;31mFileNotFoundError\u001b[0m: [WinError 2] The system cannot find the file specified: 'osu_dataset\\\\Canon Rock (JerryC) - The Original.mp3' -> 'osu_dataset\\\\203734.mp3'"
          ]
        }
      ],
      "source": [
        "unzip_osz(sorted(list(Path('osu_dataset/').glob('*.osz'))), Path('osu_dataset/'))"
      ]
    },
    {
      "attachments": {},
      "cell_type": "markdown",
      "metadata": {
        "id": "cWrr_uIUTHP6"
      },
      "source": [
        "\n",
        "\n",
        "---\n",
        "\n"
      ]
    },
    {
      "attachments": {},
      "cell_type": "markdown",
      "metadata": {
        "id": "qRm3_GhaZxQc"
      },
      "source": [
        "\n",
        "\n",
        "---\n",
        "\n"
      ]
    },
    {
      "attachments": {},
      "cell_type": "markdown",
      "metadata": {
        "id": "5FP6LscaTXTU"
      },
      "source": [
        "Can set difficulty threshold (upper bound)\n",
        "\n",
        "To set, change the threshold value and run the code below.\n",
        "\n",
        "*Star rating 최댓값 설정 가능. 나머지 다 지워버림*"
      ]
    },
    {
      "cell_type": "code",
      "execution_count": null,
      "metadata": {
        "colab": {
          "base_uri": "https://localhost:8080/"
        },
        "id": "i5lrJLRBTJL-",
        "outputId": "2eb7661f-f84f-43a9-bd2f-45fd84461234"
      },
      "outputs": [
        {
          "name": "stdout",
          "output_type": "stream",
          "text": [
            "removed :  126752-283-4.osu\n",
            "removed :  106212-285-4.osu\n"
          ]
        }
      ],
      "source": [
        "upper_bound  = '270'  # format : 3 number string 2.17 => 217\n",
        "\n",
        "file_list = os.listdir(folder_path)\n",
        "for file in file_list:\n",
        "  if file.endswith('.osu'):\n",
        "    star_rating = file.split('-')[1]\n",
        "\n",
        "    if len(star_rating) == 1:\n",
        "      star_rating = star_rating+'00'\n",
        "    elif len(star_rating) == 2:\n",
        "      star_rating = star_rating+'0'\n",
        "\n",
        "    if star_rating > upper_bound:\n",
        "      print('removed : ', file)\n",
        "      os.remove(os.path.join(folder_path, file))\n"
      ]
    },
    {
      "attachments": {},
      "cell_type": "markdown",
      "metadata": {
        "id": "oOZ023oGZuVb"
      },
      "source": [
        "\n",
        "\n",
        "---\n",
        "\n"
      ]
    },
    {
      "attachments": {},
      "cell_type": "markdown",
      "metadata": {
        "id": "frwSKlKNZPOR"
      },
      "source": [
        "Remove .zip file and remain only .osu or .mp3 (cannot undo)"
      ]
    },
    {
      "cell_type": "code",
      "execution_count": null,
      "metadata": {
        "colab": {
          "base_uri": "https://localhost:8080/"
        },
        "id": "ZwVTlaJ1ZOnY",
        "outputId": "255814bd-49c9-4879-ce9f-8360d7de1c7a"
      },
      "outputs": [
        {
          "name": "stdout",
          "output_type": "stream",
          "text": [
            "removed :  63089 fripSide - only my railgun (TV Size).zip\n",
            "removed :  126752 Yun_chi - Your song_.zip\n",
            "removed :  106212 LeaF - MEPHISTO.zip\n"
          ]
        }
      ],
      "source": [
        "file_list = os.listdir(folder_path)\n",
        "for file in file_list:\n",
        "  if file.endswith('.zip'):\n",
        "    print('removed : ', file)\n",
        "    os.remove(os.path.join(folder_path, file))\n"
      ]
    },
    {
      "attachments": {},
      "cell_type": "markdown",
      "metadata": {
        "id": "Mys112PKZoTe"
      },
      "source": [
        "\n",
        "\n",
        "---\n",
        "\n"
      ]
    },
    {
      "attachments": {},
      "cell_type": "markdown",
      "metadata": {
        "id": "7PaXuzFcRZpu"
      },
      "source": [
        "# 일반쓰레기\n",
        "\n",
        "쓰다버린코드 아카이브"
      ]
    },
    {
      "cell_type": "code",
      "execution_count": null,
      "metadata": {
        "id": "OGPEHPzvM3dG"
      },
      "outputs": [],
      "source": [
        "#Trashes\n",
        "  '''\n",
        "  url = \"https://osu.ppy.sh/beatmapsets/\" + str(setId) + \"#mania/\" + str(id) \n",
        "  print(url)\n",
        "  response = requests.get(url)\n",
        "  time.sleep(3)\n",
        "  soup = BeautifulSoup(response.content, 'html.parser')\n",
        "  print(soup)\n",
        "  key_count = soup.find('th', attrs={\"class\": \"beatmap-stats-table__label\"}, string = \"Key Count\")\n",
        "  print(key_count)\n",
        "  key_count = key_count.find_next_sibling('td', class_='beatmap-stats-table__value').text\n",
        "\n",
        "  star_rating = soup.find('th', attrs={\"class\": \"beatmap-stats-table__label\"}, string = \"Star Rating\")\n",
        "  star_rating = star_rating.find_next_sibling('td', class_='beatmap-stats-table__value').text\n",
        "  '''\n",
        "\n",
        "  '''\n",
        "  setId, star_rating, key_count = get_info(os.path.join(os.path.dirname(file_path), file))\n",
        "  new_file_name = f\"{setId}-{star_rating}-{key_count}.osu\"  # 새로운 파일 이름 생성\n",
        "  extracted_path = os.path.join(os.path.dirname(new_file_path), new_file_name)\n",
        "  zip_ref.extract(file, extracted_path)\n",
        "  '''\n",
        "  \n",
        "  '''    \n",
        "  for file in zip_ref.namelist():\n",
        "    if file.endswith('.mp3'):\n",
        "      new_file_name = f\"{setId}.osu\"  # 새로운 파일 이름 생성\n",
        "      extracted_path = os.path.join(os.path.dirname(new_file_path), new_file_name)\n",
        "      zip_ref.extract(file, os.path.dirname(new_file_path))\n",
        "  '''"
      ]
    },
    {
      "cell_type": "code",
      "execution_count": null,
      "metadata": {
        "id": "0xDGpkZlT0zk"
      },
      "outputs": [],
      "source": [
        "#전체삭제코드\n",
        "file_list = os.listdir(folder_path)\n",
        "files = [os.path.join(folder_path, file) for file in file_list]\n",
        "for file in files:\n",
        "  os.remove(file)"
      ]
    }
  ],
  "metadata": {
    "colab": {
      "collapsed_sections": [
        "7PaXuzFcRZpu"
      ],
      "provenance": []
    },
    "kernelspec": {
      "display_name": "Python 3",
      "name": "python3"
    },
    "language_info": {
      "codemirror_mode": {
        "name": "ipython",
        "version": 3
      },
      "file_extension": ".py",
      "mimetype": "text/x-python",
      "name": "python",
      "nbconvert_exporter": "python",
      "pygments_lexer": "ipython3",
      "version": "3.10.11"
    }
  },
  "nbformat": 4,
  "nbformat_minor": 0
}
