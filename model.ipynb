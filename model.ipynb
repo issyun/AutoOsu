{
  "cells": [
    {
      "cell_type": "code",
      "execution_count": 1,
      "metadata": {
        "id": "CDH-yGDxTVc2"
      },
      "outputs": [],
      "source": [
        "from pathlib import Path\n",
        "from datetime import datetime\n",
        "import random\n",
        "import torch\n",
        "import torch.nn as nn\n",
        "from torch.nn.utils.rnn import pad_sequence, unpad_sequence, pack_sequence, pad_packed_sequence\n",
        "from torchmetrics.classification import BinaryF1Score\n",
        "from tqdm.auto import tqdm\n",
        "import wandb\n",
        "\n",
        "torch.set_printoptions(sci_mode=False)\n",
        "RANDOM_SEED = 1\n",
        "DEV = 'cuda' if torch.cuda.is_available() else 'cpu'"
      ]
    },
    {
      "cell_type": "code",
      "execution_count": 2,
      "metadata": {
        "id": "Q5JNNwUeTVc3"
      },
      "outputs": [],
      "source": [
        "class OsuDataset:\n",
        "    \"\"\"\n",
        "    Beatmap + audio dataset.\n",
        "    GETITEM: specs, beat_phase, beat_num, difficulty, onsets, actions\n",
        "    \"\"\"\n",
        "\n",
        "    def __init__(self, beatmap_path, audio_path):\n",
        "        self.beatmap_fns = sorted(list(beatmap_path.glob('*.pt')))\n",
        "        self.audio_fns = sorted(list(audio_path.glob('*.pt')))\n",
        "        print('Loading dataset...', end='')\n",
        "        self.beatmap_stems = [fn.stem.split('-')[0] for fn in self.beatmap_fns]\n",
        "        self.beatmaps = [torch.load(fn) for fn in self.beatmap_fns]\n",
        "        self.audio_stems = [fn.stem for fn in self.audio_fns]\n",
        "        self.audio = [torch.load(fn) for fn in self.audio_fns]\n",
        "        print('Done')\n",
        "\n",
        "    def __len__(self):\n",
        "        return len(self.beatmaps)\n",
        "\n",
        "    def __getitem__(self, idx):\n",
        "        try:\n",
        "            audio_idx = self.audio_stems.index(self.beatmap_stems[idx])\n",
        "        except ValueError:\n",
        "            raise FileNotFoundError(f'Audio file not found for {self.beatmap_stems[idx]}')\n",
        "            \n",
        "        actions, onsets, _, difficulty = self.beatmaps[idx].values()\n",
        "        specs, beat_phase, beat_num = self.audio[audio_idx].values()\n",
        "\n",
        "        # randomly slice data to 30s\n",
        "        if specs.shape[1] > 3001:\n",
        "            start = random.randint(0, specs.shape[1] - 3001)\n",
        "            actions = actions[start:start+3001]\n",
        "            onsets = onsets[start+1:start+3001]\n",
        "            specs = specs[:, start+1:start+3001, :]\n",
        "            beat_phase = beat_phase[start+1:start+3001]\n",
        "            beat_num = beat_num[start+1:start+3001]\n",
        "            difficulty = (torch.FloatTensor([difficulty]) * 0.2).expand(3000).unsqueeze(-1)\n",
        "        else:\n",
        "            raise IndexError(f'Beatmap shorter than 30s: {beatmap_fn.name}')\n",
        "\n",
        "        return specs, beat_phase, beat_num, difficulty, onsets, actions"
      ]
    },
    {
      "cell_type": "code",
      "execution_count": 3,
      "metadata": {
        "id": "yEMh_mkbTVc4"
      },
      "outputs": [],
      "source": [
        "class PadCollater:\n",
        "    def __call__(self, batch):\n",
        "        specs = []\n",
        "        beat_phases = []\n",
        "        beat_nums = []\n",
        "        difficulties = []\n",
        "        onsets = []\n",
        "        actions = []\n",
        "\n",
        "        for x in batch:\n",
        "            specs.append(x[0])\n",
        "            beat_phases.append(x[1])\n",
        "            beat_nums.append(x[2])\n",
        "            difficulties.append(x[3])\n",
        "            onsets.append(x[4])\n",
        "            actions.append(x[5])\n",
        "\n",
        "        specs = torch.stack(specs)\n",
        "        beat_phases = torch.stack(beat_phases)\n",
        "        beat_nums = torch.stack(beat_nums)\n",
        "        difficulties = torch.stack(difficulties)\n",
        "        onsets = torch.stack(onsets)\n",
        "        actions = torch.stack(actions)\n",
        "\n",
        "        return specs, beat_phases, beat_nums, difficulties, onsets, actions"
      ]
    },
    {
      "cell_type": "markdown",
      "metadata": {},
      "source": [
        "## Baseline Model"
      ]
    },
    {
      "cell_type": "code",
      "execution_count": 20,
      "metadata": {
        "id": "sg2UsI7sTVc4"
      },
      "outputs": [],
      "source": [
        "class OsuModel(nn.Module):\n",
        "    def __init__(self, device, bp_emb_dim=16, bn_emb_dim=8, diff_emb_dim=8,\n",
        "                 np_hidden_size=256, np_num_layers=2, ns_pre_proj_size=32,\n",
        "                 ns_hidden_size=256, ns_num_layers=2, num_tokens=256):\n",
        "        super().__init__()\n",
        "        self.device = device\n",
        "        self.gelu = nn.GELU()\n",
        "        self.sigmoid = nn.Sigmoid()\n",
        "        self.conv = nn.Conv2d(in_channels=3,\n",
        "                              out_channels=1,\n",
        "                              kernel_size=(15, 5),\n",
        "                              padding='same')\n",
        "        self.beat_phase_emb = nn.Embedding(49, bp_emb_dim)\n",
        "        self.beat_num_emb = nn.Embedding(4, bn_emb_dim)\n",
        "        self.difficulty_emb = nn.Embedding(21, diff_emb_dim)\n",
        "\n",
        "        self.np_gru = nn.GRU(input_size=80 + bp_emb_dim + bn_emb_dim + diff_emb_dim,\n",
        "                             hidden_size=np_hidden_size,\n",
        "                             num_layers=np_num_layers,\n",
        "                             batch_first=True,\n",
        "                             bidirectional=True)\n",
        "        self.np_proj_1 = nn.Linear(np_hidden_size*2, 128)\n",
        "        self.np_proj_2 = nn.Linear(128, 1)\n",
        "\n",
        "        self.ns_pre_proj = nn.Linear(128, ns_pre_proj_size)\n",
        "        self.ns_gru = nn.GRU(input_size=80 + ns_pre_proj_size + bp_emb_dim + bn_emb_dim + diff_emb_dim,\n",
        "                             hidden_size=ns_hidden_size,\n",
        "                             num_layers=ns_num_layers,\n",
        "                             batch_first=True,\n",
        "                             bidirectional=False)\n",
        "        self.ns_proj_1 = nn.Linear(ns_hidden_size, ns_hidden_size)\n",
        "        self.ns_proj_2 = nn.Linear(ns_hidden_size, num_tokens)\n",
        "\n",
        "    def forward(self, specs, beat_phases, beat_nums, difficulties, lengths):\n",
        "        conv_outs = [self.gelu(self.conv(spec)).squeeze() for spec in specs]\n",
        "        bp_emb = unpad_sequence(self.beat_phase_emb(beat_phases).to('cpu'),\n",
        "                                lengths.to('cpu'), batch_first=True)\n",
        "        bn_emb = unpad_sequence(self.beat_num_emb(beat_nums).to('cpu'),\n",
        "                                lengths.to('cpu'), batch_first=True)\n",
        "        diff = difficulties.unsqueeze(1).expand(-1, lengths.max().item())\n",
        "        diff_emb = unpad_sequence(self.difficulty_emb(diff).to('cpu'),\n",
        "                                  lengths.to('cpu'), batch_first=True)\n",
        "\n",
        "        # ========== Note Placement ========== #\n",
        "\n",
        "        np_in = []\n",
        "        for i in range(len(lengths)):\n",
        "            np_in.append(torch.cat([conv_outs[i],\n",
        "                                    bp_emb[i].to(self.device),\n",
        "                                    bn_emb[i].to(self.device),\n",
        "                                    diff_emb[i].to(self.device)],\n",
        "                                   dim=-1))\n",
        "        np_in_packed = pack_sequence(np_in, enforce_sorted=False)\n",
        "        np_out, last_hidden = self.np_gru(np_in_packed)\n",
        "        np_out_padded, _ = pad_packed_sequence(np_out, batch_first=True)\n",
        "\n",
        "        np_proj_1_out = self.gelu(self.np_proj_1(np_out_padded))\n",
        "        np_pred = self.sigmoid(self.np_proj_2(np_proj_1_out)).squeeze()\n",
        "\n",
        "        # ========== Note Selection ========== #\n",
        "\n",
        "        ns_pre_proj_padded = self.ns_pre_proj(np_proj_1_out)\n",
        "        ns_pre_proj = unpad_sequence(ns_pre_proj_padded, lengths, batch_first=True)\n",
        "        ns_in = []\n",
        "        for i in range(len(lengths)):\n",
        "            ns_in.append(torch.cat([conv_outs[i],\n",
        "                                    ns_pre_proj[i],\n",
        "                                    bp_emb[i].to(self.device),\n",
        "                                    bn_emb[i].to(self.device),\n",
        "                                    diff_emb[i].to(self.device)],\n",
        "                                   dim=-1))\n",
        "        ns_in_packed = pack_sequence(ns_in, enforce_sorted=False)\n",
        "        ns_out, last_hidden = self.ns_gru(ns_in_packed)\n",
        "        ns_out_padded, _ = pad_packed_sequence(ns_out, batch_first=True)\n",
        "\n",
        "        ns_proj_1_out = self.gelu(self.ns_proj_1(ns_out_padded))\n",
        "        ns_logit = self.ns_proj_2(ns_proj_1_out)\n",
        "\n",
        "        return np_pred, ns_logit"
      ]
    },
    {
      "cell_type": "markdown",
      "metadata": {},
      "source": [
        "## ConvStack Model"
      ]
    },
    {
      "cell_type": "code",
      "execution_count": 4,
      "metadata": {},
      "outputs": [],
      "source": [
        "class StackModel(nn.Module):\n",
        "    def __init__(self, bp_emb_dim=16, bn_emb_dim=8, diff_emb_dim=8,\n",
        "                 np_hidden_size=256, np_num_layers=2, ns_pre_proj_size=32,\n",
        "                 ns_hidden_size=256, ns_num_layers=2,\n",
        "                 num_tokens=256, action_emb_dim=32):\n",
        "        super().__init__()\n",
        "        self.gelu = nn.GELU()\n",
        "        self.sigmoid = nn.Sigmoid()\n",
        "        self.stack = nn.Sequential(\n",
        "            nn.Conv2d(3, 8, (5, 3), stride=(1, 2), padding=(2, 1)),\n",
        "            nn.BatchNorm2d(8),\n",
        "            nn.ReLU(),\n",
        "            nn.Conv2d(8, 16, (5, 3), stride=(1, 2), padding=(2, 1)),\n",
        "            nn.BatchNorm2d(16),\n",
        "            nn.ReLU(),\n",
        "            nn.Conv2d(16, 32, (5, 3), stride=(1, 2), padding=(2, 1)),\n",
        "            nn.BatchNorm2d(32),\n",
        "            nn.ReLU(),\n",
        "            nn.Conv2d(32, 64, (5, 3), stride=(1, 2), padding=(2, 1)),\n",
        "            nn.BatchNorm2d(64),\n",
        "            nn.ReLU()\n",
        "        )\n",
        "        self.beat_phase_emb = nn.Embedding(49, bp_emb_dim)\n",
        "        self.beat_num_emb = nn.Embedding(4, bn_emb_dim)\n",
        "        self.difficulty_proj = nn.Sequential(\n",
        "            nn.Linear(1, diff_emb_dim),\n",
        "            nn.ReLU(),\n",
        "            nn.Linear(diff_emb_dim, diff_emb_dim),\n",
        "            nn.ReLU()\n",
        "        )\n",
        "        self.action_emb = nn.Embedding(num_tokens, action_emb_dim)\n",
        "\n",
        "        self.np_gru = nn.GRU(input_size=320 + bp_emb_dim + bn_emb_dim + diff_emb_dim,\n",
        "                             hidden_size=np_hidden_size,\n",
        "                             num_layers=np_num_layers,\n",
        "                             batch_first=True,\n",
        "                             bidirectional=True)\n",
        "        self.np_proj_1 = nn.Linear(np_hidden_size*2, 128)\n",
        "        self.np_proj_2 = nn.Linear(128, 1)\n",
        "\n",
        "        self.ns_pre_proj = nn.Linear(128, ns_pre_proj_size)\n",
        "        self.ns_gru = nn.GRU(input_size=320 + ns_pre_proj_size + bp_emb_dim + bn_emb_dim + diff_emb_dim + action_emb_dim,\n",
        "                             hidden_size=ns_hidden_size,\n",
        "                             num_layers=ns_num_layers,\n",
        "                             batch_first=True,\n",
        "                             bidirectional=False)\n",
        "        self.ns_proj_1 = nn.Linear(ns_hidden_size, ns_hidden_size)\n",
        "        self.ns_proj_2 = nn.Linear(ns_hidden_size, num_tokens)\n",
        "\n",
        "    def forward(self, specs, beat_phases, beat_nums, difficulties, actions):\n",
        "        conv_outs = self.stack(specs)\n",
        "        conv_outs = conv_outs.permute(0, 2, 1, 3).reshape(conv_outs.shape[0], conv_outs.shape[2], -1)\n",
        "        bp_emb = self.beat_phase_emb(beat_phases)\n",
        "        bn_emb = self.beat_num_emb(beat_nums)\n",
        "        diff_proj = self.difficulty_proj(difficulties)\n",
        "\n",
        "        # ========== Note Placement ========== #\n",
        "        np_in = torch.cat([conv_outs, bp_emb, bn_emb, diff_proj], dim=-1)\n",
        "        np_out, last_hidden = self.np_gru(np_in)\n",
        "\n",
        "        np_proj_1_out = self.gelu(self.np_proj_1(np_out))\n",
        "        np_pred = self.sigmoid(self.np_proj_2(np_proj_1_out)).squeeze()\n",
        "\n",
        "        # ========== Note Selection ========== #\n",
        "        ns_pre_proj = self.gelu(self.ns_pre_proj(np_proj_1_out))\n",
        "        action_emb = self.action_emb(actions)\n",
        "        ns_in = torch.cat(\n",
        "            [conv_outs, ns_pre_proj, bp_emb, bn_emb, diff_proj, action_emb], dim=-1)\n",
        "        ns_out, ns_last_hidden = self.ns_gru(ns_in)\n",
        "\n",
        "        ns_proj_1_out = self.gelu(self.ns_proj_1(ns_out))\n",
        "        ns_logit = self.ns_proj_2(ns_proj_1_out)\n",
        "\n",
        "        return np_pred, ns_logit, ns_last_hidden"
      ]
    },
    {
      "cell_type": "code",
      "execution_count": null,
      "metadata": {},
      "outputs": [],
      "source": [
        "def infer(model, specs, beat_phases, beat_nums, difficulties, device):\n",
        "    specs = specs.to(device)\n",
        "    beat_phases = beat_phases.to(device)\n",
        "    beat_nums = beat_nums.to(device)\n",
        "    difficulties = difficulties.to(device)\n",
        "\n",
        "    model.eval()\n",
        "    with torch.inference_mode():\n",
        "        conv_outs = model.stack(specs)\n",
        "        conv_outs = conv_outs.permute(0, 2, 1, 3).flatten(2,3)\n",
        "        bp_emb = model.beat_phase_emb(beat_phases)\n",
        "        bn_emb = model.beat_num_emb(beat_nums)\n",
        "        diff_proj = model.difficulty_proj(difficulties)\n",
        "\n",
        "        np_in = torch.cat([conv_outs, bp_emb, bn_emb, diff_proj], dim=-1)\n",
        "        np_out, _ = model.np_gru(np_in)\n",
        "        np_proj_1_out = model.gelu(model.np_proj_1(np_out))\n",
        "        ns_pre_proj = model.gelu(model.ns_pre_proj(np_proj_1_out))\n",
        "        \n",
        "        out = torch.zeros([specs.shape[0], specs.shape[2]], device=device)\n",
        "        action_emb = model.action_emb(torch.zeros([specs.shape[0], 1], device=device, dtype=torch.long))\n",
        "        last_hidden = torch.zeros([model.ns_num_layers, specs.shape[0], model.ns_hidden_size], device=device)\n",
        "\n",
        "        ns_in = torch.cat([conv_outs, ns_pre_proj, bp_emb, bn_emb, diff_proj], dim=-1)\n",
        "        for i in specs.shape[2]:\n",
        "            ns_in_temp = torch.cat([ns_in[:, i:i+1], action_emb]) # N x 1 x C\n",
        "            ns_out, last_hidden = model.ns_gru(ns_in_temp, last_hidden)\n",
        "            ns_proj_1_out = model.gelu(model.ns_proj_1(ns_out))\n",
        "            ns_logit = model.ns_proj_2(ns_proj_1_out)\n",
        "            ns_pred = ns_logit.argmax(dim=-1)\n",
        "            out[:, i] = ns_pred\n",
        "            action_emb = model.action_emb(ns_pred)\n",
        "\n",
        "    return out"
      ]
    },
    {
      "cell_type": "code",
      "execution_count": 5,
      "metadata": {
        "id": "JwWVNivfTVc5"
      },
      "outputs": [],
      "source": [
        "class Trainer():\n",
        "    def __init__(self, model, optimizer, train_loader,\n",
        "                 valid_loader, device, checkpoint_path: Path,\n",
        "                 np_fl_gamma=2, np_fl_weight=0.8,\n",
        "                 ns_fl_gamma=2, ns_fl_weight=0.8,\n",
        "                 np_loss_multiplier=7):\n",
        "        self.model = model\n",
        "        self.optimizer = optimizer\n",
        "        self.train_loader = train_loader\n",
        "        self.valid_loader = valid_loader\n",
        "        self.device = device\n",
        "        self.checkpoint_path = checkpoint_path\n",
        "        checkpoint_path.mkdir(exist_ok=True)\n",
        "        self.np_fl_gamma = np_fl_gamma\n",
        "        self.np_fl_weight = np_fl_weight\n",
        "        self.ns_fl_gamma = ns_fl_gamma\n",
        "        self.ns_fl_weight = ns_fl_weight\n",
        "        self.np_loss_multiplier = np_loss_multiplier\n",
        "        self.start_epoch = 0\n",
        "        self.f1 = BinaryF1Score().to(self.device)\n",
        "        # TODO: metrics (Perplexity, F-score, AUC...)\n",
        "\n",
        "    def load_checkpoint(self, fn):\n",
        "        checkpoint = torch.load(fn, map_location=self.device)\n",
        "        self.start_epoch = checkpoint['epoch'] + 1\n",
        "        self.model.load_state_dict(checkpoint['model_state_dict'])\n",
        "        self.optimizer.load_state_dict(checkpoint['optimizer_state_dict'])\n",
        "        for state in self.optimizer.state.values():\n",
        "            for k, v in state.items():\n",
        "                if (torch.is_tensor(v)):\n",
        "                    state[k] = v.to(self.device)\n",
        "\n",
        "    def save_checkpoint(self, epoch, fn):\n",
        "        checkpoint = {\n",
        "            'epoch': epoch,\n",
        "            'model_state_dict': self.model.state_dict(),\n",
        "            'optimizer_state_dict': self.optimizer.state_dict()\n",
        "        }\n",
        "        torch.save(checkpoint, fn)\n",
        "\n",
        "    def binary_focal_loss(self, y, pred, gamma, pos_weight):\n",
        "        \"\"\"\n",
        "        Biary focal loss for when y=1 is the minority class.\\n\n",
        "        INPUT\n",
        "            gamma: factor for suppressing loss for easy examples (gamma > 1)\n",
        "            pos_weight: how much to suppress loss when y=0 (0 <= pos_weight <= 1)\n",
        "        \"\"\"\n",
        "        return -(y * (1-pred).pow(gamma) * pred.log() +\n",
        "                 pos_weight * (1-y) * pred.pow(gamma) * (1-pred).log()).mean()\n",
        "\n",
        "    def multi_focal_loss(self, y, pred, gamma, pos_weight):\n",
        "        \"\"\"\n",
        "        Multi-class focal loss for when y=0 is the majority class.\\n\n",
        "        INPUT\n",
        "            gamma: factor for suppressing loss for easy examples (gamma > 1)\n",
        "            pos_weight: how much to suppress loss when y=0 (0 <= pos_weight <= 1)\n",
        "        \"\"\"\n",
        "        p_y = pred[torch.arange(len(pred)), y]\n",
        "        weight_mask = torch.where(y == 0, pos_weight, 1)\n",
        "        return -(weight_mask * (1 - p_y).pow(gamma) * p_y.log()).mean()\n",
        "\n",
        "    def train(self, num_epochs, log_to_wandb=True, hyperparams=None):\n",
        "        if log_to_wandb:\n",
        "            wandb.init(project='AutoOsu', config=hyperparams)\n",
        "            \n",
        "        self.model.to(self.device)\n",
        "        for epoch in tqdm(range(self.start_epoch, num_epochs)):\n",
        "            self.model.train()\n",
        "            for batch in tqdm(self.train_loader, leave=False):\n",
        "                specs, beat_phases, beat_nums, difficulties, onsets, actions = batch\n",
        "                specs = specs.to(self.device)\n",
        "                beat_phases = beat_phases.to(self.device)\n",
        "                beat_nums = beat_nums.to(self.device)\n",
        "                difficulties = difficulties.to(self.device)\n",
        "                onsets = onsets.to(self.device)\n",
        "                actions_gt = actions[:, 1:].to(self.device)\n",
        "                actions_shifted = actions[:, :-1].to(self.device)\n",
        "\n",
        "                np_pred, ns_logit, _ = self.model(\n",
        "                    specs, beat_phases, beat_nums, difficulties, actions_shifted)\n",
        "\n",
        "                np_pred = torch.reshape(np_pred, [-1])\n",
        "                np_label = torch.reshape(onsets, [-1])\n",
        "\n",
        "                ns_pred = torch.reshape(\n",
        "                    ns_logit, [-1, ns_logit.shape[-1]]).softmax(dim=-1)\n",
        "                ns_label = torch.reshape(actions_gt, [-1])\n",
        "\n",
        "                np_loss = self.binary_focal_loss(\n",
        "                    np_label, np_pred, self.np_fl_gamma, self.np_fl_weight) * self.np_loss_multiplier\n",
        "                ns_loss = self.multi_focal_loss(\n",
        "                    ns_label, ns_pred, self.ns_fl_gamma, self.ns_fl_weight)\n",
        "\n",
        "                batch_loss = np_loss + ns_loss\n",
        "                self.optimizer.zero_grad()\n",
        "                batch_loss.backward()\n",
        "                self.optimizer.step()\n",
        "\n",
        "                ns_acc = (ns_pred.argmax(dim=-1) == ns_label).float().mean()\n",
        "                if log_to_wandb:\n",
        "                    wandb.log({'train_np_loss': np_loss.item(),\n",
        "                            'train_ns_loss': ns_loss.item(),\n",
        "                            'train_loss': batch_loss.item(),\n",
        "                            'train_acc': ns_acc.item(),\n",
        "                            'train_np_f1': self.f1(np_pred, np_label.int()).item()})\n",
        "\n",
        "            self.model.eval()\n",
        "            with torch.inference_mode():\n",
        "                valid_np_loss_sum = 0\n",
        "                valid_ns_loss_sum = 0\n",
        "                valid_loss_sum = 0\n",
        "                valid_np_f1_sum = 0\n",
        "                valid_ns_acc_sum = 0\n",
        "                for batch in tqdm(self.valid_loader, leave=False):\n",
        "                    specs, beat_phases, beat_nums, difficulties, onsets, actions = batch\n",
        "                    specs = specs.to(self.device)\n",
        "                    beat_phases = beat_phases.to(self.device)\n",
        "                    beat_nums = beat_nums.to(self.device)\n",
        "                    difficulties = difficulties.to(self.device)\n",
        "                    onsets = onsets.to(self.device)\n",
        "                    actions_gt = actions[:, 1:].to(self.device)\n",
        "                    actions_shifted = actions[:, :-1].to(self.device)\n",
        "\n",
        "                    np_pred, ns_logit, _ = self.model(\n",
        "                        specs, beat_phases, beat_nums, difficulties, actions_shifted)\n",
        "\n",
        "                    np_pred = torch.reshape(np_pred, [-1])\n",
        "                    np_label = torch.reshape(onsets, [-1])\n",
        "\n",
        "                    ns_pred = torch.reshape(\n",
        "                        ns_logit, [-1, ns_logit.shape[-1]]).softmax(dim=-1)\n",
        "                    ns_label = torch.reshape(actions_gt, [-1])\n",
        "\n",
        "                    np_loss = self.binary_focal_loss(\n",
        "                        np_label, np_pred, self.np_fl_gamma, self.np_fl_weight) * self.np_loss_multiplier\n",
        "                    ns_loss = self.multi_focal_loss(\n",
        "                        ns_label, ns_pred, self.ns_fl_gamma, self.ns_fl_weight)\n",
        "\n",
        "                    batch_loss = np_loss + ns_loss\n",
        "                    valid_np_loss_sum += np_loss.item()\n",
        "                    valid_ns_loss_sum += ns_loss.item()\n",
        "                    valid_loss_sum += batch_loss.item()\n",
        "                    ns_acc = (ns_pred.argmax(dim=-1) ==\n",
        "                              ns_label).float().mean()\n",
        "                    valid_ns_acc_sum += ns_acc.item()\n",
        "                    valid_np_f1_sum += self.f1(np_pred, np_label.int()).item()\n",
        "\n",
        "                if log_to_wandb:\n",
        "                    wandb.log({'valid_np_loss': valid_np_loss_sum / len(self.valid_loader),\n",
        "                            'valid_ns_loss': valid_ns_loss_sum / len(self.valid_loader),\n",
        "                            'valid_loss': valid_loss_sum / len(self.valid_loader),\n",
        "                            'valid_acc': valid_ns_acc_sum / len(self.valid_loader),\n",
        "                            'valid_np_f1': valid_np_f1_sum / len(self.valid_loader)})\n",
        "\n",
        "            time = datetime.now().strftime('%m-%d-%H-%M-%S')\n",
        "            checkpoint_path = Path(\n",
        "                self.checkpoint_path / f'{time}-epoch{epoch}.pt')\n",
        "            self.save_checkpoint(epoch, checkpoint_path)\n",
        "\n",
        "        if log_to_wandb:\n",
        "            wandb.finish()"
      ]
    },
    {
      "cell_type": "markdown",
      "metadata": {},
      "source": [
        "## Train Baseline Model"
      ]
    },
    {
      "cell_type": "code",
      "execution_count": 7,
      "metadata": {
        "id": "fHxvv0EkTVc6"
      },
      "outputs": [
        {
          "data": {
            "text/html": [
              "<pre style=\"white-space:pre;overflow-x:auto;line-height:normal;font-family:Menlo,'DejaVu Sans Mono',consolas,'Courier New',monospace\"><span style=\"color: #800000; text-decoration-color: #800000\">╭─────────────────────────────── </span><span style=\"color: #800000; text-decoration-color: #800000; font-weight: bold\">Traceback </span><span style=\"color: #bf7f7f; text-decoration-color: #bf7f7f; font-weight: bold\">(most recent call last)</span><span style=\"color: #800000; text-decoration-color: #800000\"> ────────────────────────────────╮</span>\n",
              "<span style=\"color: #800000; text-decoration-color: #800000\">│</span> in <span style=\"color: #00ff00; text-decoration-color: #00ff00\">&lt;module&gt;</span>:<span style=\"color: #0000ff; text-decoration-color: #0000ff\">15</span>                                                                                   <span style=\"color: #800000; text-decoration-color: #800000\">│</span>\n",
              "<span style=\"color: #800000; text-decoration-color: #800000\">│</span>                                                                                                  <span style=\"color: #800000; text-decoration-color: #800000\">│</span>\n",
              "<span style=\"color: #800000; text-decoration-color: #800000\">│</span>   <span style=\"color: #7f7f7f; text-decoration-color: #7f7f7f\">12 </span>valid_loader = torch.utils.data.DataLoader(                                                 <span style=\"color: #800000; text-decoration-color: #800000\">│</span>\n",
              "<span style=\"color: #800000; text-decoration-color: #800000\">│</span>   <span style=\"color: #7f7f7f; text-decoration-color: #7f7f7f\">13 </span><span style=\"color: #7f7f7f; text-decoration-color: #7f7f7f\">│   </span>valid_set, batch_size=<span style=\"color: #0000ff; text-decoration-color: #0000ff\">4</span>, shuffle=<span style=\"color: #0000ff; text-decoration-color: #0000ff\">False</span>, collate_fn=collater, drop_last=<span style=\"color: #0000ff; text-decoration-color: #0000ff\">True</span>)            <span style=\"color: #800000; text-decoration-color: #800000\">│</span>\n",
              "<span style=\"color: #800000; text-decoration-color: #800000\">│</span>   <span style=\"color: #7f7f7f; text-decoration-color: #7f7f7f\">14 </span>                                                                                            <span style=\"color: #800000; text-decoration-color: #800000\">│</span>\n",
              "<span style=\"color: #800000; text-decoration-color: #800000\">│</span> <span style=\"color: #800000; text-decoration-color: #800000\">❱ </span>15 model = OsuModel(device=DEV)                                                                <span style=\"color: #800000; text-decoration-color: #800000\">│</span>\n",
              "<span style=\"color: #800000; text-decoration-color: #800000\">│</span>   <span style=\"color: #7f7f7f; text-decoration-color: #7f7f7f\">16 </span>optimizer = torch.optim.Adam(model.parameters(), lr=<span style=\"color: #0000ff; text-decoration-color: #0000ff\">1e-3</span>)                                   <span style=\"color: #800000; text-decoration-color: #800000\">│</span>\n",
              "<span style=\"color: #800000; text-decoration-color: #800000\">│</span>   <span style=\"color: #7f7f7f; text-decoration-color: #7f7f7f\">17 </span>trainer = Trainer(model, optimizer, train_loader, valid_loader,                             <span style=\"color: #800000; text-decoration-color: #800000\">│</span>\n",
              "<span style=\"color: #800000; text-decoration-color: #800000\">│</span>   <span style=\"color: #7f7f7f; text-decoration-color: #7f7f7f\">18 </span><span style=\"color: #7f7f7f; text-decoration-color: #7f7f7f\">│   │   │   │     </span>device=DEV, checkpoint_path=Path(<span style=\"color: #808000; text-decoration-color: #808000\">'checkpoints'</span>),                          <span style=\"color: #800000; text-decoration-color: #800000\">│</span>\n",
              "<span style=\"color: #800000; text-decoration-color: #800000\">╰──────────────────────────────────────────────────────────────────────────────────────────────────╯</span>\n",
              "<span style=\"color: #ff0000; text-decoration-color: #ff0000; font-weight: bold\">NameError: </span>name <span style=\"color: #008000; text-decoration-color: #008000\">'OsuModel'</span> is not defined\n",
              "</pre>\n"
            ],
            "text/plain": [
              "\u001b[31m╭─\u001b[0m\u001b[31m──────────────────────────────\u001b[0m\u001b[31m \u001b[0m\u001b[1;31mTraceback \u001b[0m\u001b[1;2;31m(most recent call last)\u001b[0m\u001b[31m \u001b[0m\u001b[31m───────────────────────────────\u001b[0m\u001b[31m─╮\u001b[0m\n",
              "\u001b[31m│\u001b[0m in \u001b[92m<module>\u001b[0m:\u001b[94m15\u001b[0m                                                                                   \u001b[31m│\u001b[0m\n",
              "\u001b[31m│\u001b[0m                                                                                                  \u001b[31m│\u001b[0m\n",
              "\u001b[31m│\u001b[0m   \u001b[2m12 \u001b[0mvalid_loader = torch.utils.data.DataLoader(                                                 \u001b[31m│\u001b[0m\n",
              "\u001b[31m│\u001b[0m   \u001b[2m13 \u001b[0m\u001b[2m│   \u001b[0mvalid_set, batch_size=\u001b[94m4\u001b[0m, shuffle=\u001b[94mFalse\u001b[0m, collate_fn=collater, drop_last=\u001b[94mTrue\u001b[0m)            \u001b[31m│\u001b[0m\n",
              "\u001b[31m│\u001b[0m   \u001b[2m14 \u001b[0m                                                                                            \u001b[31m│\u001b[0m\n",
              "\u001b[31m│\u001b[0m \u001b[31m❱ \u001b[0m15 model = OsuModel(device=DEV)                                                                \u001b[31m│\u001b[0m\n",
              "\u001b[31m│\u001b[0m   \u001b[2m16 \u001b[0moptimizer = torch.optim.Adam(model.parameters(), lr=\u001b[94m1e-3\u001b[0m)                                   \u001b[31m│\u001b[0m\n",
              "\u001b[31m│\u001b[0m   \u001b[2m17 \u001b[0mtrainer = Trainer(model, optimizer, train_loader, valid_loader,                             \u001b[31m│\u001b[0m\n",
              "\u001b[31m│\u001b[0m   \u001b[2m18 \u001b[0m\u001b[2m│   │   │   │     \u001b[0mdevice=DEV, checkpoint_path=Path(\u001b[33m'\u001b[0m\u001b[33mcheckpoints\u001b[0m\u001b[33m'\u001b[0m),                          \u001b[31m│\u001b[0m\n",
              "\u001b[31m╰──────────────────────────────────────────────────────────────────────────────────────────────────╯\u001b[0m\n",
              "\u001b[1;91mNameError: \u001b[0mname \u001b[32m'OsuModel'\u001b[0m is not defined\n"
            ]
          },
          "metadata": {},
          "output_type": "display_data"
        }
      ],
      "source": [
        "beatmap_path = Path('osu_dataset/beatmap/4keys/')\n",
        "audio_path = Path('osu_dataset/audio/')\n",
        "\n",
        "base_set = OsuDataset(beatmap_path, audio_path)\n",
        "generator = torch.Generator().manual_seed(RANDOM_SEED)\n",
        "train_set, valid_set = torch.utils.data.random_split(\n",
        "    base_set, [0.95, 0.5], generator)\n",
        "\n",
        "collater = PadCollater()\n",
        "train_loader = torch.utils.data.DataLoader(\n",
        "    train_set, batch_size=12, shuffle=True, generator=generator, collate_fn=collater, drop_last=True)\n",
        "valid_loader = torch.utils.data.DataLoader(\n",
        "    valid_set, batch_size=4, shuffle=False, collate_fn=collater, drop_last=True)\n",
        "\n",
        "model = OsuModel(device=DEV)\n",
        "optimizer = torch.optim.Adam(model.parameters(), lr=1e-3)\n",
        "trainer = Trainer(model, optimizer, train_loader, valid_loader,\n",
        "                  device=DEV, checkpoint_path=Path('checkpoints'),\n",
        "                  ns_fl_gamma=2, ns_fl_weight=0.8,\n",
        "                  np_fl_gamma=3, np_fl_weight=0.3)"
      ]
    },
    {
      "cell_type": "markdown",
      "metadata": {},
      "source": [
        "## Train ConvStack Model"
      ]
    },
    {
      "cell_type": "code",
      "execution_count": 6,
      "metadata": {},
      "outputs": [
        {
          "name": "stdout",
          "output_type": "stream",
          "text": [
            "Loading dataset...Done\n"
          ]
        },
        {
          "name": "stderr",
          "output_type": "stream",
          "text": [
            "Failed to detect the name of this notebook, you can set it manually with the WANDB_NOTEBOOK_NAME environment variable to enable code saving.\n",
            "\u001b[34m\u001b[1mwandb\u001b[0m: Currently logged in as: \u001b[33missyun\u001b[0m (\u001b[33miss-yun\u001b[0m). Use \u001b[1m`wandb login --relogin`\u001b[0m to force relogin\n"
          ]
        },
        {
          "data": {
            "text/html": [
              "Tracking run with wandb version 0.15.8"
            ],
            "text/plain": [
              "<IPython.core.display.HTML object>"
            ]
          },
          "metadata": {},
          "output_type": "display_data"
        },
        {
          "data": {
            "text/html": [
              "Run data is saved locally in <code>c:\\Projects\\AutoOsu\\wandb\\run-20230828_032327-xk2knjgd</code>"
            ],
            "text/plain": [
              "<IPython.core.display.HTML object>"
            ]
          },
          "metadata": {},
          "output_type": "display_data"
        },
        {
          "data": {
            "text/html": [
              "Syncing run <strong><a href='https://wandb.ai/iss-yun/AutoOsu/runs/xk2knjgd' target=\"_blank\">pleasant-sound-12</a></strong> to <a href='https://wandb.ai/iss-yun/AutoOsu' target=\"_blank\">Weights & Biases</a> (<a href='https://wandb.me/run' target=\"_blank\">docs</a>)<br/>"
            ],
            "text/plain": [
              "<IPython.core.display.HTML object>"
            ]
          },
          "metadata": {},
          "output_type": "display_data"
        },
        {
          "data": {
            "text/html": [
              " View project at <a href='https://wandb.ai/iss-yun/AutoOsu' target=\"_blank\">https://wandb.ai/iss-yun/AutoOsu</a>"
            ],
            "text/plain": [
              "<IPython.core.display.HTML object>"
            ]
          },
          "metadata": {},
          "output_type": "display_data"
        },
        {
          "data": {
            "text/html": [
              " View run at <a href='https://wandb.ai/iss-yun/AutoOsu/runs/xk2knjgd' target=\"_blank\">https://wandb.ai/iss-yun/AutoOsu/runs/xk2knjgd</a>"
            ],
            "text/plain": [
              "<IPython.core.display.HTML object>"
            ]
          },
          "metadata": {},
          "output_type": "display_data"
        },
        {
          "data": {
            "application/vnd.jupyter.widget-view+json": {
              "model_id": "e5c67a3ecc9941f68a61528dc9395264",
              "version_major": 2,
              "version_minor": 0
            },
            "text/plain": [
              "  0%|          | 0/60 [00:00<?, ?it/s]"
            ]
          },
          "metadata": {},
          "output_type": "display_data"
        },
        {
          "data": {
            "application/vnd.jupyter.widget-view+json": {
              "model_id": "01ef47dba6594042afba637312e04603",
              "version_major": 2,
              "version_minor": 0
            },
            "text/plain": [
              "  0%|          | 0/45 [00:00<?, ?it/s]"
            ]
          },
          "metadata": {},
          "output_type": "display_data"
        },
        {
          "data": {
            "application/vnd.jupyter.widget-view+json": {
              "model_id": "ec38d4d4d03d4809bc5de13490702e41",
              "version_major": 2,
              "version_minor": 0
            },
            "text/plain": [
              "  0%|          | 0/5 [00:00<?, ?it/s]"
            ]
          },
          "metadata": {},
          "output_type": "display_data"
        },
        {
          "data": {
            "application/vnd.jupyter.widget-view+json": {
              "model_id": "5c8358c885cd402ebae3222ac5b61347",
              "version_major": 2,
              "version_minor": 0
            },
            "text/plain": [
              "  0%|          | 0/45 [00:00<?, ?it/s]"
            ]
          },
          "metadata": {},
          "output_type": "display_data"
        },
        {
          "data": {
            "application/vnd.jupyter.widget-view+json": {
              "model_id": "64aca9dfee0846c4be1ee8b8f96298bb",
              "version_major": 2,
              "version_minor": 0
            },
            "text/plain": [
              "  0%|          | 0/5 [00:00<?, ?it/s]"
            ]
          },
          "metadata": {},
          "output_type": "display_data"
        },
        {
          "data": {
            "application/vnd.jupyter.widget-view+json": {
              "model_id": "e85b078815c6441e8d2ecc22d1ce88f1",
              "version_major": 2,
              "version_minor": 0
            },
            "text/plain": [
              "  0%|          | 0/45 [00:00<?, ?it/s]"
            ]
          },
          "metadata": {},
          "output_type": "display_data"
        },
        {
          "data": {
            "application/vnd.jupyter.widget-view+json": {
              "model_id": "d017e734ab294d9f80618bfe9a1eecf5",
              "version_major": 2,
              "version_minor": 0
            },
            "text/plain": [
              "  0%|          | 0/5 [00:00<?, ?it/s]"
            ]
          },
          "metadata": {},
          "output_type": "display_data"
        },
        {
          "data": {
            "application/vnd.jupyter.widget-view+json": {
              "model_id": "4aa4ca33f0c34f3c9988cad903eb8dbd",
              "version_major": 2,
              "version_minor": 0
            },
            "text/plain": [
              "  0%|          | 0/45 [00:00<?, ?it/s]"
            ]
          },
          "metadata": {},
          "output_type": "display_data"
        },
        {
          "data": {
            "application/vnd.jupyter.widget-view+json": {
              "model_id": "4015fe3908824a77bab0e0a9a0c4b395",
              "version_major": 2,
              "version_minor": 0
            },
            "text/plain": [
              "  0%|          | 0/5 [00:00<?, ?it/s]"
            ]
          },
          "metadata": {},
          "output_type": "display_data"
        },
        {
          "data": {
            "application/vnd.jupyter.widget-view+json": {
              "model_id": "01364a410a734ddb81c63e08edf43bd1",
              "version_major": 2,
              "version_minor": 0
            },
            "text/plain": [
              "  0%|          | 0/45 [00:00<?, ?it/s]"
            ]
          },
          "metadata": {},
          "output_type": "display_data"
        },
        {
          "data": {
            "application/vnd.jupyter.widget-view+json": {
              "model_id": "41e6c71e84b1436084447b07444e4c43",
              "version_major": 2,
              "version_minor": 0
            },
            "text/plain": [
              "  0%|          | 0/5 [00:00<?, ?it/s]"
            ]
          },
          "metadata": {},
          "output_type": "display_data"
        },
        {
          "data": {
            "application/vnd.jupyter.widget-view+json": {
              "model_id": "58528a4297074ba8889b14404f4ca38c",
              "version_major": 2,
              "version_minor": 0
            },
            "text/plain": [
              "  0%|          | 0/45 [00:00<?, ?it/s]"
            ]
          },
          "metadata": {},
          "output_type": "display_data"
        },
        {
          "data": {
            "application/vnd.jupyter.widget-view+json": {
              "model_id": "86617ebf560144c9a26fa57e7240dbcc",
              "version_major": 2,
              "version_minor": 0
            },
            "text/plain": [
              "  0%|          | 0/5 [00:00<?, ?it/s]"
            ]
          },
          "metadata": {},
          "output_type": "display_data"
        },
        {
          "data": {
            "application/vnd.jupyter.widget-view+json": {
              "model_id": "b83fb8d873084fa389655f576df482b2",
              "version_major": 2,
              "version_minor": 0
            },
            "text/plain": [
              "  0%|          | 0/45 [00:00<?, ?it/s]"
            ]
          },
          "metadata": {},
          "output_type": "display_data"
        },
        {
          "data": {
            "application/vnd.jupyter.widget-view+json": {
              "model_id": "a11e9031f3b346ff91446e238b083667",
              "version_major": 2,
              "version_minor": 0
            },
            "text/plain": [
              "  0%|          | 0/5 [00:00<?, ?it/s]"
            ]
          },
          "metadata": {},
          "output_type": "display_data"
        },
        {
          "data": {
            "application/vnd.jupyter.widget-view+json": {
              "model_id": "494656fd23c54633bddc6937fdf1cc28",
              "version_major": 2,
              "version_minor": 0
            },
            "text/plain": [
              "  0%|          | 0/45 [00:00<?, ?it/s]"
            ]
          },
          "metadata": {},
          "output_type": "display_data"
        },
        {
          "data": {
            "application/vnd.jupyter.widget-view+json": {
              "model_id": "699d85394ee24d43a2453875f5347bd7",
              "version_major": 2,
              "version_minor": 0
            },
            "text/plain": [
              "  0%|          | 0/5 [00:00<?, ?it/s]"
            ]
          },
          "metadata": {},
          "output_type": "display_data"
        },
        {
          "data": {
            "application/vnd.jupyter.widget-view+json": {
              "model_id": "0bbcda667adf4e7cbd894d4cb7409185",
              "version_major": 2,
              "version_minor": 0
            },
            "text/plain": [
              "  0%|          | 0/45 [00:00<?, ?it/s]"
            ]
          },
          "metadata": {},
          "output_type": "display_data"
        },
        {
          "data": {
            "application/vnd.jupyter.widget-view+json": {
              "model_id": "435421fc11794026a8f61b6d54ce4a81",
              "version_major": 2,
              "version_minor": 0
            },
            "text/plain": [
              "  0%|          | 0/5 [00:00<?, ?it/s]"
            ]
          },
          "metadata": {},
          "output_type": "display_data"
        },
        {
          "data": {
            "application/vnd.jupyter.widget-view+json": {
              "model_id": "6c2bcfc752314627beb4c84696ccdf9c",
              "version_major": 2,
              "version_minor": 0
            },
            "text/plain": [
              "  0%|          | 0/45 [00:00<?, ?it/s]"
            ]
          },
          "metadata": {},
          "output_type": "display_data"
        },
        {
          "data": {
            "application/vnd.jupyter.widget-view+json": {
              "model_id": "7007720138a145ed916e2b033839d14e",
              "version_major": 2,
              "version_minor": 0
            },
            "text/plain": [
              "  0%|          | 0/5 [00:00<?, ?it/s]"
            ]
          },
          "metadata": {},
          "output_type": "display_data"
        },
        {
          "data": {
            "application/vnd.jupyter.widget-view+json": {
              "model_id": "4fba56df51a845ff940b8c516601aa5d",
              "version_major": 2,
              "version_minor": 0
            },
            "text/plain": [
              "  0%|          | 0/45 [00:00<?, ?it/s]"
            ]
          },
          "metadata": {},
          "output_type": "display_data"
        },
        {
          "data": {
            "application/vnd.jupyter.widget-view+json": {
              "model_id": "e583867f2f5644579ce2d2955ef2c3be",
              "version_major": 2,
              "version_minor": 0
            },
            "text/plain": [
              "  0%|          | 0/5 [00:00<?, ?it/s]"
            ]
          },
          "metadata": {},
          "output_type": "display_data"
        },
        {
          "data": {
            "application/vnd.jupyter.widget-view+json": {
              "model_id": "77e6491fb0f04e1d8a069e40fabb4198",
              "version_major": 2,
              "version_minor": 0
            },
            "text/plain": [
              "  0%|          | 0/45 [00:00<?, ?it/s]"
            ]
          },
          "metadata": {},
          "output_type": "display_data"
        },
        {
          "data": {
            "application/vnd.jupyter.widget-view+json": {
              "model_id": "5b37c56b4c17432e853ed48ff13b2709",
              "version_major": 2,
              "version_minor": 0
            },
            "text/plain": [
              "  0%|          | 0/5 [00:00<?, ?it/s]"
            ]
          },
          "metadata": {},
          "output_type": "display_data"
        },
        {
          "data": {
            "application/vnd.jupyter.widget-view+json": {
              "model_id": "596681d9205b4a8d963bb9bfdaa18117",
              "version_major": 2,
              "version_minor": 0
            },
            "text/plain": [
              "  0%|          | 0/45 [00:00<?, ?it/s]"
            ]
          },
          "metadata": {},
          "output_type": "display_data"
        },
        {
          "data": {
            "application/vnd.jupyter.widget-view+json": {
              "model_id": "6c601759e3ca43018e33e5e8eafd0161",
              "version_major": 2,
              "version_minor": 0
            },
            "text/plain": [
              "  0%|          | 0/5 [00:00<?, ?it/s]"
            ]
          },
          "metadata": {},
          "output_type": "display_data"
        },
        {
          "data": {
            "application/vnd.jupyter.widget-view+json": {
              "model_id": "e4deecaf3576433b823bac433a046e42",
              "version_major": 2,
              "version_minor": 0
            },
            "text/plain": [
              "  0%|          | 0/45 [00:00<?, ?it/s]"
            ]
          },
          "metadata": {},
          "output_type": "display_data"
        },
        {
          "data": {
            "application/vnd.jupyter.widget-view+json": {
              "model_id": "843c1a5bfdad4bcb8585a2627b4067f9",
              "version_major": 2,
              "version_minor": 0
            },
            "text/plain": [
              "  0%|          | 0/5 [00:00<?, ?it/s]"
            ]
          },
          "metadata": {},
          "output_type": "display_data"
        },
        {
          "data": {
            "application/vnd.jupyter.widget-view+json": {
              "model_id": "6b8c9a2b9ecf4bd79901cfc72678cbdb",
              "version_major": 2,
              "version_minor": 0
            },
            "text/plain": [
              "  0%|          | 0/45 [00:00<?, ?it/s]"
            ]
          },
          "metadata": {},
          "output_type": "display_data"
        },
        {
          "data": {
            "application/vnd.jupyter.widget-view+json": {
              "model_id": "40b32306d11f41dbaf25edaa11a82172",
              "version_major": 2,
              "version_minor": 0
            },
            "text/plain": [
              "  0%|          | 0/5 [00:00<?, ?it/s]"
            ]
          },
          "metadata": {},
          "output_type": "display_data"
        },
        {
          "data": {
            "application/vnd.jupyter.widget-view+json": {
              "model_id": "344437fff5324bf29f38b389350a7eab",
              "version_major": 2,
              "version_minor": 0
            },
            "text/plain": [
              "  0%|          | 0/45 [00:00<?, ?it/s]"
            ]
          },
          "metadata": {},
          "output_type": "display_data"
        },
        {
          "data": {
            "application/vnd.jupyter.widget-view+json": {
              "model_id": "5637e064eed84a70b7a738b7607a54ee",
              "version_major": 2,
              "version_minor": 0
            },
            "text/plain": [
              "  0%|          | 0/5 [00:00<?, ?it/s]"
            ]
          },
          "metadata": {},
          "output_type": "display_data"
        },
        {
          "data": {
            "application/vnd.jupyter.widget-view+json": {
              "model_id": "5276c49fae2a4be789805b87a8f54f6b",
              "version_major": 2,
              "version_minor": 0
            },
            "text/plain": [
              "  0%|          | 0/45 [00:00<?, ?it/s]"
            ]
          },
          "metadata": {},
          "output_type": "display_data"
        },
        {
          "data": {
            "application/vnd.jupyter.widget-view+json": {
              "model_id": "a2f9eef7a29b43528b91727fc9918384",
              "version_major": 2,
              "version_minor": 0
            },
            "text/plain": [
              "  0%|          | 0/5 [00:00<?, ?it/s]"
            ]
          },
          "metadata": {},
          "output_type": "display_data"
        },
        {
          "data": {
            "application/vnd.jupyter.widget-view+json": {
              "model_id": "9c59e458f0d84cf3b357183f60a31fb5",
              "version_major": 2,
              "version_minor": 0
            },
            "text/plain": [
              "  0%|          | 0/45 [00:00<?, ?it/s]"
            ]
          },
          "metadata": {},
          "output_type": "display_data"
        },
        {
          "data": {
            "application/vnd.jupyter.widget-view+json": {
              "model_id": "3dcc0db26ea24b63980fb0e4c59f171e",
              "version_major": 2,
              "version_minor": 0
            },
            "text/plain": [
              "  0%|          | 0/5 [00:00<?, ?it/s]"
            ]
          },
          "metadata": {},
          "output_type": "display_data"
        },
        {
          "data": {
            "application/vnd.jupyter.widget-view+json": {
              "model_id": "e4b78bdfe49045bc817fe454ad6519b7",
              "version_major": 2,
              "version_minor": 0
            },
            "text/plain": [
              "  0%|          | 0/45 [00:00<?, ?it/s]"
            ]
          },
          "metadata": {},
          "output_type": "display_data"
        },
        {
          "data": {
            "application/vnd.jupyter.widget-view+json": {
              "model_id": "6a85b4acd7c443b4bc02229286f2ee50",
              "version_major": 2,
              "version_minor": 0
            },
            "text/plain": [
              "  0%|          | 0/5 [00:00<?, ?it/s]"
            ]
          },
          "metadata": {},
          "output_type": "display_data"
        },
        {
          "data": {
            "application/vnd.jupyter.widget-view+json": {
              "model_id": "f60e3fb76aac4dc4ab51d45935f77e61",
              "version_major": 2,
              "version_minor": 0
            },
            "text/plain": [
              "  0%|          | 0/45 [00:00<?, ?it/s]"
            ]
          },
          "metadata": {},
          "output_type": "display_data"
        },
        {
          "data": {
            "application/vnd.jupyter.widget-view+json": {
              "model_id": "56c16928324849bdb09c739829ec6ba7",
              "version_major": 2,
              "version_minor": 0
            },
            "text/plain": [
              "  0%|          | 0/5 [00:00<?, ?it/s]"
            ]
          },
          "metadata": {},
          "output_type": "display_data"
        },
        {
          "data": {
            "application/vnd.jupyter.widget-view+json": {
              "model_id": "de9195a592274ccca2cf5e9cd36ae02c",
              "version_major": 2,
              "version_minor": 0
            },
            "text/plain": [
              "  0%|          | 0/45 [00:00<?, ?it/s]"
            ]
          },
          "metadata": {},
          "output_type": "display_data"
        },
        {
          "data": {
            "application/vnd.jupyter.widget-view+json": {
              "model_id": "5ed58f3c67ce45b6afc39fe9c015329c",
              "version_major": 2,
              "version_minor": 0
            },
            "text/plain": [
              "  0%|          | 0/5 [00:00<?, ?it/s]"
            ]
          },
          "metadata": {},
          "output_type": "display_data"
        },
        {
          "data": {
            "application/vnd.jupyter.widget-view+json": {
              "model_id": "66b02acd87b9498fb4688cb81f2ad412",
              "version_major": 2,
              "version_minor": 0
            },
            "text/plain": [
              "  0%|          | 0/45 [00:00<?, ?it/s]"
            ]
          },
          "metadata": {},
          "output_type": "display_data"
        },
        {
          "data": {
            "application/vnd.jupyter.widget-view+json": {
              "model_id": "2bdb771166c24b19bda4a8949ca3323d",
              "version_major": 2,
              "version_minor": 0
            },
            "text/plain": [
              "  0%|          | 0/5 [00:00<?, ?it/s]"
            ]
          },
          "metadata": {},
          "output_type": "display_data"
        },
        {
          "data": {
            "application/vnd.jupyter.widget-view+json": {
              "model_id": "fc86f82ac6fd41efad792ed21871f46a",
              "version_major": 2,
              "version_minor": 0
            },
            "text/plain": [
              "  0%|          | 0/45 [00:00<?, ?it/s]"
            ]
          },
          "metadata": {},
          "output_type": "display_data"
        },
        {
          "data": {
            "application/vnd.jupyter.widget-view+json": {
              "model_id": "0efde79b3a6c48f8b34d34e0bde22ad0",
              "version_major": 2,
              "version_minor": 0
            },
            "text/plain": [
              "  0%|          | 0/5 [00:00<?, ?it/s]"
            ]
          },
          "metadata": {},
          "output_type": "display_data"
        },
        {
          "data": {
            "application/vnd.jupyter.widget-view+json": {
              "model_id": "f4d5b0eb14574475a6da75b1b16ac34c",
              "version_major": 2,
              "version_minor": 0
            },
            "text/plain": [
              "  0%|          | 0/45 [00:00<?, ?it/s]"
            ]
          },
          "metadata": {},
          "output_type": "display_data"
        },
        {
          "data": {
            "application/vnd.jupyter.widget-view+json": {
              "model_id": "67710c0a45d14438a612d1a99d6a613b",
              "version_major": 2,
              "version_minor": 0
            },
            "text/plain": [
              "  0%|          | 0/5 [00:00<?, ?it/s]"
            ]
          },
          "metadata": {},
          "output_type": "display_data"
        },
        {
          "data": {
            "application/vnd.jupyter.widget-view+json": {
              "model_id": "cf382f3730694ad1bcce65fab1e1d14d",
              "version_major": 2,
              "version_minor": 0
            },
            "text/plain": [
              "  0%|          | 0/45 [00:00<?, ?it/s]"
            ]
          },
          "metadata": {},
          "output_type": "display_data"
        },
        {
          "data": {
            "application/vnd.jupyter.widget-view+json": {
              "model_id": "0d3f81dbb79249b8977ff224898b3dc3",
              "version_major": 2,
              "version_minor": 0
            },
            "text/plain": [
              "  0%|          | 0/5 [00:00<?, ?it/s]"
            ]
          },
          "metadata": {},
          "output_type": "display_data"
        },
        {
          "data": {
            "application/vnd.jupyter.widget-view+json": {
              "model_id": "1d38bef5e26247c6b544cb4d316e00f3",
              "version_major": 2,
              "version_minor": 0
            },
            "text/plain": [
              "  0%|          | 0/45 [00:00<?, ?it/s]"
            ]
          },
          "metadata": {},
          "output_type": "display_data"
        },
        {
          "data": {
            "application/vnd.jupyter.widget-view+json": {
              "model_id": "1ade2dbf92f045dab1953b427009d192",
              "version_major": 2,
              "version_minor": 0
            },
            "text/plain": [
              "  0%|          | 0/5 [00:00<?, ?it/s]"
            ]
          },
          "metadata": {},
          "output_type": "display_data"
        },
        {
          "data": {
            "application/vnd.jupyter.widget-view+json": {
              "model_id": "62de67f516414139b388ef55f8343fa6",
              "version_major": 2,
              "version_minor": 0
            },
            "text/plain": [
              "  0%|          | 0/45 [00:00<?, ?it/s]"
            ]
          },
          "metadata": {},
          "output_type": "display_data"
        },
        {
          "data": {
            "application/vnd.jupyter.widget-view+json": {
              "model_id": "5b88fdccee50449f8f4758d3f042b9c1",
              "version_major": 2,
              "version_minor": 0
            },
            "text/plain": [
              "  0%|          | 0/5 [00:00<?, ?it/s]"
            ]
          },
          "metadata": {},
          "output_type": "display_data"
        },
        {
          "data": {
            "application/vnd.jupyter.widget-view+json": {
              "model_id": "e67daad54acd4597b4c95a614701e1bb",
              "version_major": 2,
              "version_minor": 0
            },
            "text/plain": [
              "  0%|          | 0/45 [00:00<?, ?it/s]"
            ]
          },
          "metadata": {},
          "output_type": "display_data"
        },
        {
          "data": {
            "application/vnd.jupyter.widget-view+json": {
              "model_id": "23060ed74b0949dc94d4dee028955359",
              "version_major": 2,
              "version_minor": 0
            },
            "text/plain": [
              "  0%|          | 0/5 [00:00<?, ?it/s]"
            ]
          },
          "metadata": {},
          "output_type": "display_data"
        },
        {
          "data": {
            "application/vnd.jupyter.widget-view+json": {
              "model_id": "643cdf1d1e1540b4ac474cbaaa9aa212",
              "version_major": 2,
              "version_minor": 0
            },
            "text/plain": [
              "  0%|          | 0/45 [00:00<?, ?it/s]"
            ]
          },
          "metadata": {},
          "output_type": "display_data"
        },
        {
          "data": {
            "application/vnd.jupyter.widget-view+json": {
              "model_id": "90b04b4b148449ec9a836205ea6c1356",
              "version_major": 2,
              "version_minor": 0
            },
            "text/plain": [
              "  0%|          | 0/5 [00:00<?, ?it/s]"
            ]
          },
          "metadata": {},
          "output_type": "display_data"
        },
        {
          "data": {
            "application/vnd.jupyter.widget-view+json": {
              "model_id": "f5fdc5ddcc8b4200b5a6eb1af3b80aa0",
              "version_major": 2,
              "version_minor": 0
            },
            "text/plain": [
              "  0%|          | 0/45 [00:00<?, ?it/s]"
            ]
          },
          "metadata": {},
          "output_type": "display_data"
        },
        {
          "data": {
            "application/vnd.jupyter.widget-view+json": {
              "model_id": "3f09c47a59eb47a5b0118534de69ccf6",
              "version_major": 2,
              "version_minor": 0
            },
            "text/plain": [
              "  0%|          | 0/5 [00:00<?, ?it/s]"
            ]
          },
          "metadata": {},
          "output_type": "display_data"
        },
        {
          "data": {
            "application/vnd.jupyter.widget-view+json": {
              "model_id": "c05d7cdaad0b4456bd46cf329c4fac4e",
              "version_major": 2,
              "version_minor": 0
            },
            "text/plain": [
              "  0%|          | 0/45 [00:00<?, ?it/s]"
            ]
          },
          "metadata": {},
          "output_type": "display_data"
        },
        {
          "data": {
            "application/vnd.jupyter.widget-view+json": {
              "model_id": "87cb729f3b36423ab07eab2e8f844beb",
              "version_major": 2,
              "version_minor": 0
            },
            "text/plain": [
              "  0%|          | 0/5 [00:00<?, ?it/s]"
            ]
          },
          "metadata": {},
          "output_type": "display_data"
        },
        {
          "data": {
            "application/vnd.jupyter.widget-view+json": {
              "model_id": "100681bc2a494cd18f9c7af53d180acf",
              "version_major": 2,
              "version_minor": 0
            },
            "text/plain": [
              "  0%|          | 0/45 [00:00<?, ?it/s]"
            ]
          },
          "metadata": {},
          "output_type": "display_data"
        },
        {
          "data": {
            "application/vnd.jupyter.widget-view+json": {
              "model_id": "d2775b16189440a383c4ba578d07dd9a",
              "version_major": 2,
              "version_minor": 0
            },
            "text/plain": [
              "  0%|          | 0/5 [00:00<?, ?it/s]"
            ]
          },
          "metadata": {},
          "output_type": "display_data"
        },
        {
          "data": {
            "application/vnd.jupyter.widget-view+json": {
              "model_id": "95ee83991db943cc9bbdea3de9520b51",
              "version_major": 2,
              "version_minor": 0
            },
            "text/plain": [
              "  0%|          | 0/45 [00:00<?, ?it/s]"
            ]
          },
          "metadata": {},
          "output_type": "display_data"
        },
        {
          "data": {
            "application/vnd.jupyter.widget-view+json": {
              "model_id": "53597ba56d5d48ee84d8a9d7606cab27",
              "version_major": 2,
              "version_minor": 0
            },
            "text/plain": [
              "  0%|          | 0/5 [00:00<?, ?it/s]"
            ]
          },
          "metadata": {},
          "output_type": "display_data"
        },
        {
          "data": {
            "application/vnd.jupyter.widget-view+json": {
              "model_id": "be5ccda1c3104a1fa6af02b0c97598a4",
              "version_major": 2,
              "version_minor": 0
            },
            "text/plain": [
              "  0%|          | 0/45 [00:00<?, ?it/s]"
            ]
          },
          "metadata": {},
          "output_type": "display_data"
        },
        {
          "data": {
            "application/vnd.jupyter.widget-view+json": {
              "model_id": "586d35a12116484ead1358d83cfd0c9b",
              "version_major": 2,
              "version_minor": 0
            },
            "text/plain": [
              "  0%|          | 0/5 [00:00<?, ?it/s]"
            ]
          },
          "metadata": {},
          "output_type": "display_data"
        },
        {
          "data": {
            "application/vnd.jupyter.widget-view+json": {
              "model_id": "f947d6bed46f4d9f9e56dbf66124cfda",
              "version_major": 2,
              "version_minor": 0
            },
            "text/plain": [
              "  0%|          | 0/45 [00:00<?, ?it/s]"
            ]
          },
          "metadata": {},
          "output_type": "display_data"
        },
        {
          "data": {
            "application/vnd.jupyter.widget-view+json": {
              "model_id": "255aac565cd84a249aa401a34836885a",
              "version_major": 2,
              "version_minor": 0
            },
            "text/plain": [
              "  0%|          | 0/5 [00:00<?, ?it/s]"
            ]
          },
          "metadata": {},
          "output_type": "display_data"
        },
        {
          "data": {
            "application/vnd.jupyter.widget-view+json": {
              "model_id": "8ef35d149d464530b4e8252cdd9591be",
              "version_major": 2,
              "version_minor": 0
            },
            "text/plain": [
              "  0%|          | 0/45 [00:00<?, ?it/s]"
            ]
          },
          "metadata": {},
          "output_type": "display_data"
        },
        {
          "data": {
            "application/vnd.jupyter.widget-view+json": {
              "model_id": "130d45dfedf141188827993a68740549",
              "version_major": 2,
              "version_minor": 0
            },
            "text/plain": [
              "  0%|          | 0/5 [00:00<?, ?it/s]"
            ]
          },
          "metadata": {},
          "output_type": "display_data"
        },
        {
          "data": {
            "application/vnd.jupyter.widget-view+json": {
              "model_id": "bfd7e4302be743b88b49b472d672471a",
              "version_major": 2,
              "version_minor": 0
            },
            "text/plain": [
              "  0%|          | 0/45 [00:00<?, ?it/s]"
            ]
          },
          "metadata": {},
          "output_type": "display_data"
        },
        {
          "data": {
            "application/vnd.jupyter.widget-view+json": {
              "model_id": "ad61a59512284b7290a7474bb40bd8fe",
              "version_major": 2,
              "version_minor": 0
            },
            "text/plain": [
              "  0%|          | 0/5 [00:00<?, ?it/s]"
            ]
          },
          "metadata": {},
          "output_type": "display_data"
        },
        {
          "data": {
            "application/vnd.jupyter.widget-view+json": {
              "model_id": "63c62508e4bb47459a3899f0a99f8e49",
              "version_major": 2,
              "version_minor": 0
            },
            "text/plain": [
              "  0%|          | 0/45 [00:00<?, ?it/s]"
            ]
          },
          "metadata": {},
          "output_type": "display_data"
        },
        {
          "data": {
            "application/vnd.jupyter.widget-view+json": {
              "model_id": "42af87f7dadd463fae396d7194f867b6",
              "version_major": 2,
              "version_minor": 0
            },
            "text/plain": [
              "  0%|          | 0/5 [00:00<?, ?it/s]"
            ]
          },
          "metadata": {},
          "output_type": "display_data"
        },
        {
          "data": {
            "application/vnd.jupyter.widget-view+json": {
              "model_id": "f66e301f58824e7ebfed8bb616e9a1e6",
              "version_major": 2,
              "version_minor": 0
            },
            "text/plain": [
              "  0%|          | 0/45 [00:00<?, ?it/s]"
            ]
          },
          "metadata": {},
          "output_type": "display_data"
        },
        {
          "data": {
            "application/vnd.jupyter.widget-view+json": {
              "model_id": "63bee140c17047d3a0f1a9c481513ffc",
              "version_major": 2,
              "version_minor": 0
            },
            "text/plain": [
              "  0%|          | 0/5 [00:00<?, ?it/s]"
            ]
          },
          "metadata": {},
          "output_type": "display_data"
        },
        {
          "data": {
            "application/vnd.jupyter.widget-view+json": {
              "model_id": "243af7eed3fa4261b4894b0b88ffb1e7",
              "version_major": 2,
              "version_minor": 0
            },
            "text/plain": [
              "  0%|          | 0/45 [00:00<?, ?it/s]"
            ]
          },
          "metadata": {},
          "output_type": "display_data"
        },
        {
          "data": {
            "application/vnd.jupyter.widget-view+json": {
              "model_id": "3302811135c1475ba85692a26c8129a9",
              "version_major": 2,
              "version_minor": 0
            },
            "text/plain": [
              "  0%|          | 0/5 [00:00<?, ?it/s]"
            ]
          },
          "metadata": {},
          "output_type": "display_data"
        },
        {
          "data": {
            "application/vnd.jupyter.widget-view+json": {
              "model_id": "12852455cddb46c7b7d66cfcb415849a",
              "version_major": 2,
              "version_minor": 0
            },
            "text/plain": [
              "  0%|          | 0/45 [00:00<?, ?it/s]"
            ]
          },
          "metadata": {},
          "output_type": "display_data"
        },
        {
          "data": {
            "application/vnd.jupyter.widget-view+json": {
              "model_id": "40a25cdacc774efbbf6bc82ead90c90c",
              "version_major": 2,
              "version_minor": 0
            },
            "text/plain": [
              "  0%|          | 0/5 [00:00<?, ?it/s]"
            ]
          },
          "metadata": {},
          "output_type": "display_data"
        },
        {
          "data": {
            "application/vnd.jupyter.widget-view+json": {
              "model_id": "6eec563932f64f8ba56bf6634f9c51c0",
              "version_major": 2,
              "version_minor": 0
            },
            "text/plain": [
              "  0%|          | 0/45 [00:00<?, ?it/s]"
            ]
          },
          "metadata": {},
          "output_type": "display_data"
        },
        {
          "data": {
            "application/vnd.jupyter.widget-view+json": {
              "model_id": "ecf2d0b0dff443d99f173b62cd1c13c5",
              "version_major": 2,
              "version_minor": 0
            },
            "text/plain": [
              "  0%|          | 0/5 [00:00<?, ?it/s]"
            ]
          },
          "metadata": {},
          "output_type": "display_data"
        },
        {
          "data": {
            "application/vnd.jupyter.widget-view+json": {
              "model_id": "51e25897282249f094a4386472413d11",
              "version_major": 2,
              "version_minor": 0
            },
            "text/plain": [
              "  0%|          | 0/45 [00:00<?, ?it/s]"
            ]
          },
          "metadata": {},
          "output_type": "display_data"
        },
        {
          "data": {
            "application/vnd.jupyter.widget-view+json": {
              "model_id": "7bbc0074946440c3b50b0399f49f1cb4",
              "version_major": 2,
              "version_minor": 0
            },
            "text/plain": [
              "  0%|          | 0/5 [00:00<?, ?it/s]"
            ]
          },
          "metadata": {},
          "output_type": "display_data"
        },
        {
          "data": {
            "application/vnd.jupyter.widget-view+json": {
              "model_id": "5ca4d093ffd94914bcc6f47120a0520d",
              "version_major": 2,
              "version_minor": 0
            },
            "text/plain": [
              "  0%|          | 0/45 [00:00<?, ?it/s]"
            ]
          },
          "metadata": {},
          "output_type": "display_data"
        },
        {
          "data": {
            "application/vnd.jupyter.widget-view+json": {
              "model_id": "85409a8246344802b09cf21bd9eae2fc",
              "version_major": 2,
              "version_minor": 0
            },
            "text/plain": [
              "  0%|          | 0/5 [00:00<?, ?it/s]"
            ]
          },
          "metadata": {},
          "output_type": "display_data"
        },
        {
          "data": {
            "application/vnd.jupyter.widget-view+json": {
              "model_id": "834403b2280c4a8c9a536c7c7feeaf64",
              "version_major": 2,
              "version_minor": 0
            },
            "text/plain": [
              "  0%|          | 0/45 [00:00<?, ?it/s]"
            ]
          },
          "metadata": {},
          "output_type": "display_data"
        },
        {
          "data": {
            "application/vnd.jupyter.widget-view+json": {
              "model_id": "9d623de11a3645b7845bd89a8169ad85",
              "version_major": 2,
              "version_minor": 0
            },
            "text/plain": [
              "  0%|          | 0/5 [00:00<?, ?it/s]"
            ]
          },
          "metadata": {},
          "output_type": "display_data"
        },
        {
          "data": {
            "application/vnd.jupyter.widget-view+json": {
              "model_id": "cf3a14048db846be9dbdeb33cde973f2",
              "version_major": 2,
              "version_minor": 0
            },
            "text/plain": [
              "  0%|          | 0/45 [00:00<?, ?it/s]"
            ]
          },
          "metadata": {},
          "output_type": "display_data"
        },
        {
          "data": {
            "application/vnd.jupyter.widget-view+json": {
              "model_id": "ca0ba813623e4abba30ae1fa6abf2c4a",
              "version_major": 2,
              "version_minor": 0
            },
            "text/plain": [
              "  0%|          | 0/5 [00:00<?, ?it/s]"
            ]
          },
          "metadata": {},
          "output_type": "display_data"
        },
        {
          "data": {
            "application/vnd.jupyter.widget-view+json": {
              "model_id": "b47d2492410143a69f5b9e0efb0f2261",
              "version_major": 2,
              "version_minor": 0
            },
            "text/plain": [
              "  0%|          | 0/45 [00:00<?, ?it/s]"
            ]
          },
          "metadata": {},
          "output_type": "display_data"
        },
        {
          "data": {
            "application/vnd.jupyter.widget-view+json": {
              "model_id": "99f491304988437e8d0e48d914dc9d53",
              "version_major": 2,
              "version_minor": 0
            },
            "text/plain": [
              "  0%|          | 0/5 [00:00<?, ?it/s]"
            ]
          },
          "metadata": {},
          "output_type": "display_data"
        },
        {
          "data": {
            "application/vnd.jupyter.widget-view+json": {
              "model_id": "418be5014a494d14b1d9035536293f16",
              "version_major": 2,
              "version_minor": 0
            },
            "text/plain": [
              "  0%|          | 0/45 [00:00<?, ?it/s]"
            ]
          },
          "metadata": {},
          "output_type": "display_data"
        },
        {
          "data": {
            "application/vnd.jupyter.widget-view+json": {
              "model_id": "cf9776c0fcbd43769bbcc12b0c5b004e",
              "version_major": 2,
              "version_minor": 0
            },
            "text/plain": [
              "  0%|          | 0/5 [00:00<?, ?it/s]"
            ]
          },
          "metadata": {},
          "output_type": "display_data"
        },
        {
          "data": {
            "application/vnd.jupyter.widget-view+json": {
              "model_id": "acf94dc818414505a2c3bca655f76804",
              "version_major": 2,
              "version_minor": 0
            },
            "text/plain": [
              "  0%|          | 0/45 [00:00<?, ?it/s]"
            ]
          },
          "metadata": {},
          "output_type": "display_data"
        },
        {
          "data": {
            "application/vnd.jupyter.widget-view+json": {
              "model_id": "04fae850587a49bf86265417d821eaca",
              "version_major": 2,
              "version_minor": 0
            },
            "text/plain": [
              "  0%|          | 0/5 [00:00<?, ?it/s]"
            ]
          },
          "metadata": {},
          "output_type": "display_data"
        },
        {
          "data": {
            "application/vnd.jupyter.widget-view+json": {
              "model_id": "e0ab03f0ce874eaab8f0e2c3f063e144",
              "version_major": 2,
              "version_minor": 0
            },
            "text/plain": [
              "  0%|          | 0/45 [00:00<?, ?it/s]"
            ]
          },
          "metadata": {},
          "output_type": "display_data"
        },
        {
          "data": {
            "application/vnd.jupyter.widget-view+json": {
              "model_id": "4295aea155dc49e183950ae752f59803",
              "version_major": 2,
              "version_minor": 0
            },
            "text/plain": [
              "  0%|          | 0/5 [00:00<?, ?it/s]"
            ]
          },
          "metadata": {},
          "output_type": "display_data"
        },
        {
          "data": {
            "application/vnd.jupyter.widget-view+json": {
              "model_id": "717a3d0c11bc4bdc87f61b3ee9e0db2d",
              "version_major": 2,
              "version_minor": 0
            },
            "text/plain": [
              "  0%|          | 0/45 [00:00<?, ?it/s]"
            ]
          },
          "metadata": {},
          "output_type": "display_data"
        },
        {
          "data": {
            "application/vnd.jupyter.widget-view+json": {
              "model_id": "86ca95a0b6e3484fbd513872efa51160",
              "version_major": 2,
              "version_minor": 0
            },
            "text/plain": [
              "  0%|          | 0/5 [00:00<?, ?it/s]"
            ]
          },
          "metadata": {},
          "output_type": "display_data"
        },
        {
          "data": {
            "application/vnd.jupyter.widget-view+json": {
              "model_id": "226207bc061448ee9b01faa469b68d2f",
              "version_major": 2,
              "version_minor": 0
            },
            "text/plain": [
              "  0%|          | 0/45 [00:00<?, ?it/s]"
            ]
          },
          "metadata": {},
          "output_type": "display_data"
        },
        {
          "data": {
            "application/vnd.jupyter.widget-view+json": {
              "model_id": "242d8991d3d84da0a6fcc3e05486ef3a",
              "version_major": 2,
              "version_minor": 0
            },
            "text/plain": [
              "  0%|          | 0/5 [00:00<?, ?it/s]"
            ]
          },
          "metadata": {},
          "output_type": "display_data"
        },
        {
          "data": {
            "application/vnd.jupyter.widget-view+json": {
              "model_id": "15d1e577a8434d1f8cbe0144935a819a",
              "version_major": 2,
              "version_minor": 0
            },
            "text/plain": [
              "  0%|          | 0/45 [00:00<?, ?it/s]"
            ]
          },
          "metadata": {},
          "output_type": "display_data"
        },
        {
          "data": {
            "application/vnd.jupyter.widget-view+json": {
              "model_id": "6eabb71f6e3b401a9664ee0fed52fcdc",
              "version_major": 2,
              "version_minor": 0
            },
            "text/plain": [
              "  0%|          | 0/5 [00:00<?, ?it/s]"
            ]
          },
          "metadata": {},
          "output_type": "display_data"
        },
        {
          "data": {
            "application/vnd.jupyter.widget-view+json": {
              "model_id": "311e17fa87f04df994be36ac05e5406e",
              "version_major": 2,
              "version_minor": 0
            },
            "text/plain": [
              "  0%|          | 0/45 [00:00<?, ?it/s]"
            ]
          },
          "metadata": {},
          "output_type": "display_data"
        },
        {
          "data": {
            "application/vnd.jupyter.widget-view+json": {
              "model_id": "abaf942f8b1e4d5a8a8a5d83cdbd7765",
              "version_major": 2,
              "version_minor": 0
            },
            "text/plain": [
              "  0%|          | 0/5 [00:00<?, ?it/s]"
            ]
          },
          "metadata": {},
          "output_type": "display_data"
        },
        {
          "data": {
            "application/vnd.jupyter.widget-view+json": {
              "model_id": "e2019d458b3e48a695d8962fac1f993c",
              "version_major": 2,
              "version_minor": 0
            },
            "text/plain": [
              "  0%|          | 0/45 [00:00<?, ?it/s]"
            ]
          },
          "metadata": {},
          "output_type": "display_data"
        },
        {
          "data": {
            "application/vnd.jupyter.widget-view+json": {
              "model_id": "5123a7bf906d4cffbc30b64738b1c6df",
              "version_major": 2,
              "version_minor": 0
            },
            "text/plain": [
              "  0%|          | 0/5 [00:00<?, ?it/s]"
            ]
          },
          "metadata": {},
          "output_type": "display_data"
        },
        {
          "data": {
            "application/vnd.jupyter.widget-view+json": {
              "model_id": "d727a4cc82154cd38716eb5c8dac1a6c",
              "version_major": 2,
              "version_minor": 0
            },
            "text/plain": [
              "  0%|          | 0/45 [00:00<?, ?it/s]"
            ]
          },
          "metadata": {},
          "output_type": "display_data"
        },
        {
          "data": {
            "application/vnd.jupyter.widget-view+json": {
              "model_id": "cc7f7769fe2a43e9879da861acf9832f",
              "version_major": 2,
              "version_minor": 0
            },
            "text/plain": [
              "  0%|          | 0/5 [00:00<?, ?it/s]"
            ]
          },
          "metadata": {},
          "output_type": "display_data"
        },
        {
          "data": {
            "application/vnd.jupyter.widget-view+json": {
              "model_id": "77a6aa4fe2b943a690211def22e594a2",
              "version_major": 2,
              "version_minor": 0
            },
            "text/plain": [
              "  0%|          | 0/45 [00:00<?, ?it/s]"
            ]
          },
          "metadata": {},
          "output_type": "display_data"
        },
        {
          "data": {
            "application/vnd.jupyter.widget-view+json": {
              "model_id": "4988a63b614f490191ada9f1aa148af7",
              "version_major": 2,
              "version_minor": 0
            },
            "text/plain": [
              "  0%|          | 0/5 [00:00<?, ?it/s]"
            ]
          },
          "metadata": {},
          "output_type": "display_data"
        },
        {
          "data": {
            "application/vnd.jupyter.widget-view+json": {
              "model_id": "9f9e92f7886e4fe69023bed5c0c1a3c2",
              "version_major": 2,
              "version_minor": 0
            },
            "text/plain": [
              "  0%|          | 0/45 [00:00<?, ?it/s]"
            ]
          },
          "metadata": {},
          "output_type": "display_data"
        },
        {
          "data": {
            "application/vnd.jupyter.widget-view+json": {
              "model_id": "ecc2472b555741a7b011b7ce7b16576a",
              "version_major": 2,
              "version_minor": 0
            },
            "text/plain": [
              "  0%|          | 0/5 [00:00<?, ?it/s]"
            ]
          },
          "metadata": {},
          "output_type": "display_data"
        },
        {
          "data": {
            "application/vnd.jupyter.widget-view+json": {
              "model_id": "b59faf8d9bb14538be952bbf1af25cd6",
              "version_major": 2,
              "version_minor": 0
            },
            "text/plain": [
              "  0%|          | 0/45 [00:00<?, ?it/s]"
            ]
          },
          "metadata": {},
          "output_type": "display_data"
        },
        {
          "data": {
            "application/vnd.jupyter.widget-view+json": {
              "model_id": "7fff30ba4ae447f3a11dfde2be17491b",
              "version_major": 2,
              "version_minor": 0
            },
            "text/plain": [
              "  0%|          | 0/5 [00:00<?, ?it/s]"
            ]
          },
          "metadata": {},
          "output_type": "display_data"
        },
        {
          "data": {
            "application/vnd.jupyter.widget-view+json": {
              "model_id": "2ec64efca3a54649b74538c132064ce4",
              "version_major": 2,
              "version_minor": 0
            },
            "text/plain": [
              "  0%|          | 0/45 [00:00<?, ?it/s]"
            ]
          },
          "metadata": {},
          "output_type": "display_data"
        },
        {
          "data": {
            "application/vnd.jupyter.widget-view+json": {
              "model_id": "682a3c2f73344afb853e8e6d38eb4040",
              "version_major": 2,
              "version_minor": 0
            },
            "text/plain": [
              "  0%|          | 0/5 [00:00<?, ?it/s]"
            ]
          },
          "metadata": {},
          "output_type": "display_data"
        },
        {
          "data": {
            "text/html": [
              "Waiting for W&B process to finish... <strong style=\"color:green\">(success).</strong>"
            ],
            "text/plain": [
              "<IPython.core.display.HTML object>"
            ]
          },
          "metadata": {},
          "output_type": "display_data"
        },
        {
          "data": {
            "application/vnd.jupyter.widget-view+json": {
              "model_id": "04fcbc874e8a446981c174116ad3ce36",
              "version_major": 2,
              "version_minor": 0
            },
            "text/plain": [
              "VBox(children=(Label(value='0.001 MB of 0.008 MB uploaded (0.000 MB deduped)\\r'), FloatProgress(value=0.159718…"
            ]
          },
          "metadata": {},
          "output_type": "display_data"
        },
        {
          "data": {
            "text/html": [
              "<style>\n",
              "    table.wandb td:nth-child(1) { padding: 0 10px; text-align: left ; width: auto;} td:nth-child(2) {text-align: left ; width: 100%}\n",
              "    .wandb-row { display: flex; flex-direction: row; flex-wrap: wrap; justify-content: flex-start; width: 100% }\n",
              "    .wandb-col { display: flex; flex-direction: column; flex-basis: 100%; flex: 1; padding: 10px; }\n",
              "    </style>\n",
              "<div class=\"wandb-row\"><div class=\"wandb-col\"><h3>Run history:</h3><br/><table class=\"wandb\"><tr><td>train_acc</td><td>▃▂▂▅▃▂▁▅▂▃▄▄▃▄▃▅▆▅▅▆▅▅▇▇▇▇▇▆▇▇▇█▇▇▇▇▇▇██</td></tr><tr><td>train_loss</td><td>█▆▅▃▃▄▄▃▃▄▂▄▂▃▃▂▂▂▂▂▂▂▂▁▁▁▁▂▁▁▁▁▁▁▁▁▁▁▁▁</td></tr><tr><td>train_np_f1</td><td>▁▅▆▇▇▇▇▇▇▆▇▆▇▇▇▇▇▇▇▇▇█████▇▇████████▇███</td></tr><tr><td>train_np_loss</td><td>█▅▄▂▃▂▃▂▂▃▂▃▂▃▂▂▂▂▂▃▂▂▁▁▁▁▂▂▁▁▂▁▁▁▂▁▂▁▁▁</td></tr><tr><td>train_ns_loss</td><td>█▇▇▄▄▅▅▄▅▄▃▄▃▄▃▃▂▂▂▂▃▃▂▂▂▂▁▂▁▂▁▁▂▂▁▁▁▁▁▁</td></tr><tr><td>valid_acc</td><td>▁▂▂▁▁▁▂▃▂▃▃▃▃▃▄▄▄▅▅▆▆▆▆▆▆▆▇▇▇▇▇▇▇▇██▇███</td></tr><tr><td>valid_loss</td><td>█▆▅▄▄▄▃▃▃▃▃▃▃▃▃▃▂▂▂▂▂▂▂▂▂▂▂▂▂▁▁▁▁▁▁▁▁▁▁▁</td></tr><tr><td>valid_np_f1</td><td>▁▄▆▆▇▇▇▇▇▇▇▇▇▇▇▇▇▇▇▇▇▇█▇▇▇▇█████████████</td></tr><tr><td>valid_np_loss</td><td>█▄▃▃▃▃▂▂▂▂▂▂▂▂▂▂▂▂▂▂▂▂▁▂▂▂▂▂▂▁▁▁▂▁▁▂▁▁▁▂</td></tr><tr><td>valid_ns_loss</td><td>█▇▆▅▅▅▄▄▅▄▄▄▃▃▃▃▃▃▃▂▂▂▂▂▂▂▂▂▂▂▂▂▁▁▁▁▁▁▁▁</td></tr></table><br/></div><div class=\"wandb-col\"><h3>Run summary:</h3><br/><table class=\"wandb\"><tr><td>train_acc</td><td>0.9644</td></tr><tr><td>train_loss</td><td>0.12507</td></tr><tr><td>train_np_f1</td><td>0.87658</td></tr><tr><td>train_np_loss</td><td>0.05064</td></tr><tr><td>train_ns_loss</td><td>0.07443</td></tr><tr><td>valid_acc</td><td>0.96221</td></tr><tr><td>valid_loss</td><td>0.16652</td></tr><tr><td>valid_np_f1</td><td>0.83459</td></tr><tr><td>valid_np_loss</td><td>0.08934</td></tr><tr><td>valid_ns_loss</td><td>0.07718</td></tr></table><br/></div></div>"
            ],
            "text/plain": [
              "<IPython.core.display.HTML object>"
            ]
          },
          "metadata": {},
          "output_type": "display_data"
        },
        {
          "data": {
            "text/html": [
              " View run <strong style=\"color:#cdcd00\">pleasant-sound-12</strong> at: <a href='https://wandb.ai/iss-yun/AutoOsu/runs/xk2knjgd' target=\"_blank\">https://wandb.ai/iss-yun/AutoOsu/runs/xk2knjgd</a><br/>Synced 4 W&B file(s), 0 media file(s), 0 artifact file(s) and 0 other file(s)"
            ],
            "text/plain": [
              "<IPython.core.display.HTML object>"
            ]
          },
          "metadata": {},
          "output_type": "display_data"
        },
        {
          "data": {
            "text/html": [
              "Find logs at: <code>.\\wandb\\run-20230828_032327-xk2knjgd\\logs</code>"
            ],
            "text/plain": [
              "<IPython.core.display.HTML object>"
            ]
          },
          "metadata": {},
          "output_type": "display_data"
        }
      ],
      "source": [
        "hyperparams = {\n",
        "    'bp_emb_dim': 16,\n",
        "    'bn_emb_dim': 8,\n",
        "    'diff_emb_dim': 8,\n",
        "    'np_hidden_size': 256,\n",
        "    'np_num_layers': 2,\n",
        "    'ns_pre_proj_size': 32,\n",
        "    'ns_hidden_size': 256,\n",
        "    'ns_num_layers': 2,\n",
        "    'action_emb_dim': 32,\n",
        "    'np_fl_gamma': 2,\n",
        "    'np_fl_weight': 0.8,\n",
        "    'ns_fl_gamma': 3,\n",
        "    'ns_fl_weight': 0.5,\n",
        "    'learning_rate': 5e-4,\n",
        "    'batch_size': 24,\n",
        "    'num_epochs': 60\n",
        "}\n",
        "\n",
        "beatmap_path = Path('osu_dataset/beatmap/4keys/')\n",
        "audio_path = Path('osu_dataset/audio/')\n",
        "\n",
        "base_set = OsuDataset(beatmap_path, audio_path)\n",
        "generator = torch.Generator().manual_seed(RANDOM_SEED)\n",
        "train_set, valid_set = torch.utils.data.random_split(\n",
        "    base_set, [0.95, 0.05], generator)\n",
        "\n",
        "collater = PadCollater()\n",
        "train_loader = torch.utils.data.DataLoader(\n",
        "    train_set, batch_size=hyperparams['batch_size'], shuffle=True, generator=generator, collate_fn=collater, drop_last=False)\n",
        "valid_loader = torch.utils.data.DataLoader(\n",
        "    valid_set, batch_size=12, shuffle=False, collate_fn=collater, drop_last=False)\n",
        "\n",
        "model = StackModel(bp_emb_dim=hyperparams['bp_emb_dim'],\n",
        "                   bn_emb_dim=hyperparams['bn_emb_dim'],\n",
        "                   diff_emb_dim=hyperparams['diff_emb_dim'],\n",
        "                   np_hidden_size=hyperparams['np_hidden_size'],\n",
        "                   np_num_layers=hyperparams['np_num_layers'],\n",
        "                   ns_pre_proj_size=hyperparams['ns_pre_proj_size'],\n",
        "                   ns_hidden_size=hyperparams['ns_hidden_size'],\n",
        "                   ns_num_layers=hyperparams['ns_num_layers'],\n",
        "                   num_tokens=256,\n",
        "                   action_emb_dim=hyperparams['action_emb_dim'])\n",
        "                   \n",
        "optimizer = torch.optim.Adam(model.parameters(), lr=hyperparams['learning_rate'])\n",
        "trainer = Trainer(model, optimizer, train_loader, valid_loader,\n",
        "                  device=DEV, checkpoint_path=Path('checkpoints/convstack/'),\n",
        "                  np_fl_gamma=hyperparams['np_fl_gamma'], np_fl_weight=hyperparams['np_fl_weight'],\n",
        "                  ns_fl_gamma=hyperparams['ns_fl_gamma'], ns_fl_weight=hyperparams['ns_fl_weight'])\n",
        "\n",
        "trainer.train(hyperparams['num_epochs'], log_to_wandb=True, hyperparams=hyperparams)"
      ]
    },
    {
      "cell_type": "code",
      "execution_count": null,
      "metadata": {},
      "outputs": [],
      "source": [
        "wandb.init(project='AutoOsu', id='wwjh1mq4', resume='must')\n",
        "trainer.start_epoch = 40\n",
        "trainer.train(60)\n",
        "wandb.finish()"
      ]
    }
  ],
  "metadata": {
    "accelerator": "GPU",
    "colab": {
      "gpuType": "A100",
      "machine_shape": "hm",
      "provenance": []
    },
    "kernelspec": {
      "display_name": "Python 3",
      "name": "python3"
    },
    "language_info": {
      "codemirror_mode": {
        "name": "ipython",
        "version": 3
      },
      "file_extension": ".py",
      "mimetype": "text/x-python",
      "name": "python",
      "nbconvert_exporter": "python",
      "pygments_lexer": "ipython3",
      "version": "3.10.11"
    },
    "orig_nbformat": 4
  },
  "nbformat": 4,
  "nbformat_minor": 0
}
