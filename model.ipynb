{
  "cells": [
    {
      "cell_type": "code",
      "execution_count": 1,
      "metadata": {
        "id": "CDH-yGDxTVc2"
      },
      "outputs": [],
      "source": [
        "from pathlib import Path\n",
        "import torch\n",
        "import torch.nn as nn\n",
        "from torch.nn.utils.rnn import pad_sequence, unpad_sequence, pack_sequence, pad_packed_sequence\n",
        "from tqdm.auto import tqdm\n",
        "from utils import find_file_by_stem\n",
        "\n",
        "torch.set_printoptions(sci_mode=False)\n",
        "RANDOM_SEED = 1\n",
        "DEV = 'cuda' if torch.cuda.is_available() else 'cpu'"
      ]
    },
    {
      "cell_type": "code",
      "source": [
        "# Colab: download dataset\n",
        "!gdown https://drive.google.com/uc?id=1xmDzRIv-RuPeqLDGY2zfOiiNAbyZp6jo\n",
        "!unzip -qq osu_dataset-06-16.zip"
      ],
      "metadata": {
        "id": "0W2QKNePUC5D",
        "outputId": "ef54115e-e95e-44da-9761-2a7eebdf648a",
        "colab": {
          "base_uri": "https://localhost:8080/"
        }
      },
      "execution_count": 5,
      "outputs": [
        {
          "output_type": "stream",
          "name": "stdout",
          "text": [
            "Downloading...\n",
            "From: https://drive.google.com/uc?id=1xmDzRIv-RuPeqLDGY2zfOiiNAbyZp6jo\n",
            "To: /content/osu_dataset-06-16.zip\n",
            "100% 4.96G/4.96G [01:00<00:00, 82.3MB/s]\n"
          ]
        }
      ]
    },
    {
      "cell_type": "code",
      "execution_count": null,
      "metadata": {
        "id": "Q5JNNwUeTVc3"
      },
      "outputs": [],
      "source": [
        "class OsuDataset:\n",
        "    \"\"\"\n",
        "    Beatmap + audio dataset.\n",
        "    GETITEM: specs, beat_phase, beat_num, difficulty, onsets, actions\n",
        "    \"\"\"\n",
        "\n",
        "    def __init__(self, beatmap_path, audio_path):\n",
        "        self.beatmap_fns = sorted(list(beatmap_path.glob('*.pt')))\n",
        "        self.audio_fns = list(audio_path.glob('*.pt'))\n",
        "\n",
        "    def __len__(self):\n",
        "        return len(self.beatmap_fns)\n",
        "\n",
        "    def __getitem__(self, idx):\n",
        "        beatmap_fn = self.beatmap_fns[idx]\n",
        "        audio_fn = find_file_by_stem(self.audio_fns, beatmap_fn.stem.split('-')[0])\n",
        "        if audio_fn == -1:\n",
        "            raise FileNotFoundError\n",
        "        actions, onsets, _, difficulty = torch.load(beatmap_fn).values()\n",
        "        specs, beat_phase, beat_num = torch.load(audio_fn).values()\n",
        "        return specs, beat_phase, beat_num, difficulty, onsets, actions"
      ]
    },
    {
      "cell_type": "code",
      "execution_count": null,
      "metadata": {
        "id": "yEMh_mkbTVc4"
      },
      "outputs": [],
      "source": [
        "class PadCollater:\n",
        "    def __init__(self, device):\n",
        "        self.device = device\n",
        "\n",
        "    def __call__(self, batch):\n",
        "        specs = []\n",
        "        beat_phases = []\n",
        "        beat_nums = []\n",
        "        difficulties = []\n",
        "        onsets = []\n",
        "        actions = []\n",
        "        lengths = []\n",
        "\n",
        "        for x in batch:\n",
        "            specs.append(x[0].to(self.device))\n",
        "            lengths.append(x[0].shape[1])\n",
        "            beat_phases.append(x[1].to(self.device))\n",
        "            beat_nums.append(x[2].to(self.device))\n",
        "            difficulties.append(x[3])\n",
        "            onsets.append(x[4].to(self.device))\n",
        "            actions.append(x[5].to(self.device))\n",
        "\n",
        "        beat_phases = pad_sequence(beat_phases, batch_first=True)\n",
        "        beat_nums = pad_sequence(beat_nums, batch_first=True)\n",
        "        difficulties = torch.tensor(difficulties, device=self.device)\n",
        "        actions = pad_sequence(actions, batch_first=True)\n",
        "        lengths = torch.tensor(lengths, device=self.device)\n",
        "\n",
        "        return specs, beat_phases, beat_nums, difficulties, onsets, actions, lengths"
      ]
    },
    {
      "cell_type": "code",
      "execution_count": null,
      "metadata": {
        "id": "sg2UsI7sTVc4"
      },
      "outputs": [],
      "source": [
        "class OsuModel(nn.Module):\n",
        "    def __init__(self, device, bp_emb_dim=16, bn_emb_dim=8, diff_emb_dim=8,\n",
        "                 np_hidden_size=256, np_num_layers=2, ns_pre_proj_size=32,\n",
        "                 ns_hidden_size=256, ns_num_layers=2, num_tokens=256):\n",
        "        super().__init__()\n",
        "        self.device = device\n",
        "        self.gelu = nn.GELU()\n",
        "        self.sigmoid = nn.Sigmoid()\n",
        "        self.conv = nn.Conv2d(in_channels=3,\n",
        "                              out_channels=1,\n",
        "                              kernel_size=(15, 5),\n",
        "                              padding='same')\n",
        "        self.beat_phase_emb = nn.Embedding(49, bp_emb_dim)\n",
        "        self.beat_num_emb = nn.Embedding(4, bn_emb_dim)\n",
        "        self.difficulty_emb = nn.Embedding(20, diff_emb_dim)\n",
        "\n",
        "        self.np_gru = nn.GRU(input_size=80 + bp_emb_dim + bn_emb_dim + diff_emb_dim,\n",
        "                             hidden_size=np_hidden_size,\n",
        "                             num_layers=np_num_layers,\n",
        "                             batch_first=True,\n",
        "                             bidirectional=True)\n",
        "        self.np_proj_1 = nn.Linear(np_hidden_size*2, 128)\n",
        "        self.np_proj_2 = nn.Linear(128, 1)\n",
        "\n",
        "        self.ns_pre_proj = nn.Linear(128, ns_pre_proj_size)\n",
        "        self.ns_gru = nn.GRU(input_size=80 + ns_pre_proj_size + bp_emb_dim + bn_emb_dim + diff_emb_dim,\n",
        "                             hidden_size=ns_hidden_size,\n",
        "                             num_layers=ns_num_layers,\n",
        "                             batch_first=True,\n",
        "                             bidirectional=False)\n",
        "        self.ns_proj_1 = nn.Linear(ns_hidden_size, ns_hidden_size)\n",
        "        self.ns_proj_2 = nn.Linear(ns_hidden_size, num_tokens)\n",
        "\n",
        "    def forward(self, specs, beat_phases, beat_nums, difficulties, lengths):\n",
        "        conv_outs = [self.gelu(self.conv(spec)).squeeze() for spec in specs]\n",
        "        bp_emb = unpad_sequence(self.beat_phase_emb(beat_phases).to('cpu'),\n",
        "                                lengths.to('cpu'), batch_first=True)\n",
        "        bn_emb = unpad_sequence(self.beat_num_emb(beat_nums).to('cpu'),\n",
        "                                lengths.to('cpu'), batch_first=True)\n",
        "        diff_emb = self.difficulty_emb(difficulties)\n",
        "\n",
        "        # ========== Note Placement ========== #\n",
        "\n",
        "        np_in = []\n",
        "        for i in range(len(lengths)):\n",
        "            np_in.append(torch.cat([conv_outs[i],\n",
        "                                    bp_emb[i].to(self.device),\n",
        "                                    bn_emb[i].to(self.device),\n",
        "                                    diff_emb[i].expand(lengths[i], diff_emb[i].shape[-1])],\n",
        "                                   dim=-1))\n",
        "        np_in_packed = pack_sequence(np_in, enforce_sorted=False)\n",
        "        np_out, last_hidden = self.np_gru(np_in_packed)\n",
        "        np_out_padded, lengths = pad_packed_sequence(np_out, batch_first=True)\n",
        "\n",
        "        np_proj_1_out = self.gelu(self.np_proj_1(np_out_padded))\n",
        "        np_pred = self.sigmoid(self.np_proj_2(np_proj_1_out)).squeeze()\n",
        "\n",
        "        # ========== Note Selection ========== #\n",
        "\n",
        "        ns_pre_proj_padded = self.ns_pre_proj(np_proj_1_out)\n",
        "        ns_pre_proj = unpad_sequence(ns_pre_proj_padded, lengths, batch_first=True)\n",
        "        ns_in = []\n",
        "        for i in range(len(lengths)):\n",
        "            ns_in.append(torch.cat([conv_outs[i],\n",
        "                                    ns_pre_proj[i].to(self.device),\n",
        "                                    bp_emb[i].to(self.device),\n",
        "                                    bn_emb[i].to(self.device),\n",
        "                                    diff_emb[i].expand(lengths[i], diff_emb[i].shape[-1])],\n",
        "                                   dim=-1))\n",
        "        ns_in_packed = pack_sequence(ns_in, enforce_sorted=False)\n",
        "        ns_out, last_hidden = self.ns_gru(ns_in_packed)\n",
        "        ns_out_padded, lengths = pad_packed_sequence(ns_out, batch_first=True)\n",
        "\n",
        "        ns_proj_1_out = self.gelu(self.ns_proj_1(ns_out_padded))\n",
        "        ns_logit = self.ns_proj_2(ns_proj_1_out)\n",
        "\n",
        "        return np_pred, ns_logit"
      ]
    },
    {
      "cell_type": "code",
      "execution_count": null,
      "metadata": {
        "id": "JwWVNivfTVc5"
      },
      "outputs": [],
      "source": [
        "class Trainer():\n",
        "    def __init__(self, model, optimizer, train_loader, valid_loader, device,\n",
        "                 np_fl_gamma=2, np_fl_weight=0.8,\n",
        "                 ns_fl_gamma=2, ns_fl_weight=0.8):\n",
        "        self.model = model\n",
        "        self.optimizer = optimizer\n",
        "        self.train_loader = train_loader\n",
        "        self.valid_loader = valid_loader\n",
        "        self.device = device\n",
        "        self.np_fl_gamma=np_fl_gamma\n",
        "        self.np_fl_weight=np_fl_weight\n",
        "        self.ns_fl_gamma=ns_fl_gamma\n",
        "        self.ns_fl_weight=ns_fl_weight\n",
        "\n",
        "        self.train_np_loss_record = []\n",
        "        self.train_ns_loss_record = []\n",
        "        self.train_loss_record = []\n",
        "        self.valid_np_loss_record = []\n",
        "        self.valid_ns_loss_record = []\n",
        "        self.valid_loss_record = []\n",
        "\n",
        "        # TODO: metrics (Perplexity, F-score, AUC...)\n",
        "\n",
        "    def binary_focal_loss(self, y, pred, gamma, pos_weight):\n",
        "        \"\"\"\n",
        "        Biary focal loss for when y=1 is the minority class.\\n\n",
        "        INPUT\n",
        "            gamma: factor for suppressing loss for easy examples (gamma > 1)\n",
        "            pos_weight: how much to suppress loss when y=0 (0 <= pos_weight <= 1)\n",
        "        \"\"\"\n",
        "        return -(y * (1-pred).pow(gamma) * pred.log() +\n",
        "                 pos_weight * (1-y) * pred.pow(gamma) * (1-pred).log()).mean()\n",
        "\n",
        "    def multi_focal_loss(self, y, pred, gamma, pos_weight):\n",
        "        \"\"\"\n",
        "        Multi-class focal loss for when y=0 is the majority class.\\n\n",
        "        INPUT\n",
        "            gamma: factor for suppressing loss for easy examples (gamma > 1)\n",
        "            pos_weight: how much to suppress loss when y=0 (0 <= pos_weight <= 1)\n",
        "        \"\"\"\n",
        "        p_y = pred[torch.arange(len(pred)), y]\n",
        "        weight_mask = torch.where(y == 0, pos_weight, 1)\n",
        "        return -(weight_mask * (1 - p_y).pow(gamma) * p_y.log()).mean()\n",
        "\n",
        "    def train(self, num_epochs, reset_loss_record=False):\n",
        "        self.model.to(self.device)\n",
        "        if reset_loss_record:\n",
        "            self.train_loss_record = []\n",
        "            self.valid_loss_record = []\n",
        "\n",
        "        for epoch in tqdm(range(num_epochs)):\n",
        "            self.model.train()\n",
        "            for batch in tqdm(self.train_loader, leave=False):\n",
        "                specs, beat_phases, beat_nums, difficulties, onsets, actions, lengths = batch\n",
        "\n",
        "                np_pred_padded, ns_logit = self.model(\n",
        "                    specs, beat_phases, beat_nums, difficulties, lengths)\n",
        "\n",
        "                np_pred = torch.cat(unpad_sequence(\n",
        "                    np_pred_padded.to('cpu'), lengths.to('cpu'), batch_first=True), dim=-1)\n",
        "                np_label = torch.cat(onsets, dim=-1).to('cpu')\n",
        "\n",
        "                ns_pred = torch.cat(unpad_sequence(\n",
        "                    ns_logit.to('cpu'), lengths.to('cpu')-1, batch_first=True), dim=0).softmax(dim=-1)\n",
        "                ns_label = torch.cat(unpad_sequence(\n",
        "                    actions[:, 1:].to('cpu'), lengths.to('cpu')-1, batch_first=True), dim=-1)\n",
        "\n",
        "                np_loss = self.binary_focal_loss(\n",
        "                    np_label, np_pred, self.np_fl_gamma, self.np_fl_weight)\n",
        "                ns_loss = self.multi_focal_loss(\n",
        "                    ns_label, ns_pred, self.ns_fl_gamma, self.ns_fl_weight)\n",
        "\n",
        "                batch_loss = np_loss + ns_loss\n",
        "                self.train_np_loss_record.append(np_loss.item())\n",
        "                self.train_ns_loss_record.append(ns_loss.item())\n",
        "                self.train_loss_record.append(batch_loss.item())\n",
        "\n",
        "                self.optimizer.zero_grad()\n",
        "                batch_loss.backward()\n",
        "                self.optimizer.step()\n",
        "\n",
        "            self.model.eval()\n",
        "            with torch.inference_mode():\n",
        "                for batch in tqdm(self.valid_loader, leave=False):\n",
        "                    specs, beat_phases, beat_nums, difficulties, onsets, actions, lengths = batch\n",
        "\n",
        "                    np_pred_padded, ns_logit = self.model(\n",
        "                        specs, beat_phases, beat_nums, difficulties, lengths)\n",
        "\n",
        "                    np_pred = torch.cat(unpad_sequence(\n",
        "                        np_pred_padded.to('cpu'), lengths.to('cpu'), batch_first=True), dim=-1)\n",
        "                    np_label = torch.cat(onsets, dim=-1).to('cpu')\n",
        "\n",
        "                    ns_pred = torch.cat(unpad_sequence(\n",
        "                        ns_logit.to('cpu'), lengths.to('cpu')-1, batch_first=True), dim=0).softmax(dim=-1)\n",
        "                    ns_label = torch.cat(unpad_sequence(\n",
        "                        actions[:, 1:].to('cpu'), lengths.to('cpu')-1, batch_first=True), dim=-1)\n",
        "\n",
        "                    np_loss = self.binary_focal_loss(\n",
        "                        np_label, np_pred, self.np_fl_gamma, self.np_fl_weight)\n",
        "                    ns_loss = self.multi_focal_loss(\n",
        "                        ns_label, ns_pred, self.ns_fl_gamma, self.ns_fl_weight)\n",
        "\n",
        "                    batch_loss = np_loss + ns_loss\n",
        "                    self.valid_np_loss_record.append(np_loss.item())\n",
        "                    self.valid_ns_loss_record.append(ns_loss.item())\n",
        "                    self.valid_loss_record.append(batch_loss.item())"
      ]
    },
    {
      "cell_type": "code",
      "execution_count": null,
      "metadata": {
        "id": "fHxvv0EkTVc6"
      },
      "outputs": [],
      "source": [
        "beatmap_path = Path('osu_dataset/test/4keys/')\n",
        "audio_path = Path('osu_dataset/test/')\n",
        "\n",
        "base_set = OsuDataset(beatmap_path, audio_path)\n",
        "generator = torch.Generator().manual_seed(RANDOM_SEED)\n",
        "train_set, valid_set = torch.utils.data.random_split(\n",
        "    base_set, [0.8, 0.2], generator)\n",
        "\n",
        "collater = PadCollater(device=DEV)\n",
        "train_loader = torch.utils.data.DataLoader(\n",
        "    train_set, batch_size=4, shuffle=True, generator=generator, collate_fn=collater, drop_last=True)\n",
        "valid_loader = torch.utils.data.DataLoader(\n",
        "    valid_set, batch_size=4, shuffle=False, collate_fn=collater, drop_last=True)\n",
        "\n",
        "model = OsuModel(device=DEV)\n",
        "optimizer = torch.optim.Adam(model.parameters(), lr=1e-3)\n",
        "trainer = Trainer(model, optimizer, train_loader, valid_loader,\n",
        "                  device=DEV, ns_fl_gamma=2, ns_fl_weight=0.8,\n",
        "                  np_fl_gamma=2, np_fl_weight=0.5)"
      ]
    },
    {
      "cell_type": "markdown",
      "metadata": {
        "id": "gGa6lK71TVc6"
      },
      "source": [
        "### Training Test"
      ]
    },
    {
      "cell_type": "code",
      "execution_count": null,
      "metadata": {
        "id": "fReGJJ0mTVc7",
        "outputId": "78ad5ebc-5675-4d6e-d83d-ea008ea09cc8",
        "colab": {
          "referenced_widgets": [
            "fd64ac5c873b4788a956a6e12d49ef43",
            "e4f1630062e740d6b81f0c92a60c2c26",
            "c082bf37001e4989bacdf88035a00317",
            "7f45b3f7047a4801ae610d2665d51854",
            "bb5f7f6991fd4a0b8e67042bf7d470d9"
          ]
        }
      },
      "outputs": [
        {
          "data": {
            "application/vnd.jupyter.widget-view+json": {
              "model_id": "fd64ac5c873b4788a956a6e12d49ef43",
              "version_major": 2,
              "version_minor": 0
            },
            "text/plain": [
              "  0%|          | 0/2 [00:00<?, ?it/s]"
            ]
          },
          "metadata": {},
          "output_type": "display_data"
        },
        {
          "data": {
            "application/vnd.jupyter.widget-view+json": {
              "model_id": "e4f1630062e740d6b81f0c92a60c2c26",
              "version_major": 2,
              "version_minor": 0
            },
            "text/plain": [
              "  0%|          | 0/6 [00:00<?, ?it/s]"
            ]
          },
          "metadata": {},
          "output_type": "display_data"
        },
        {
          "data": {
            "application/vnd.jupyter.widget-view+json": {
              "model_id": "c082bf37001e4989bacdf88035a00317",
              "version_major": 2,
              "version_minor": 0
            },
            "text/plain": [
              "  0%|          | 0/1 [00:00<?, ?it/s]"
            ]
          },
          "metadata": {},
          "output_type": "display_data"
        },
        {
          "data": {
            "application/vnd.jupyter.widget-view+json": {
              "model_id": "7f45b3f7047a4801ae610d2665d51854",
              "version_major": 2,
              "version_minor": 0
            },
            "text/plain": [
              "  0%|          | 0/6 [00:00<?, ?it/s]"
            ]
          },
          "metadata": {},
          "output_type": "display_data"
        },
        {
          "data": {
            "application/vnd.jupyter.widget-view+json": {
              "model_id": "bb5f7f6991fd4a0b8e67042bf7d470d9",
              "version_major": 2,
              "version_minor": 0
            },
            "text/plain": [
              "  0%|          | 0/1 [00:00<?, ?it/s]"
            ]
          },
          "metadata": {},
          "output_type": "display_data"
        }
      ],
      "source": [
        "trainer.train(2)"
      ]
    },
    {
      "cell_type": "code",
      "execution_count": null,
      "metadata": {
        "id": "SZdDNW3nTVc8",
        "outputId": "8620f223-f20c-4287-b30e-20c9fb5eed7d"
      },
      "outputs": [
        {
          "data": {
            "text/plain": [
              "[<matplotlib.lines.Line2D at 0x2a8f1b51870>]"
            ]
          },
          "execution_count": 22,
          "metadata": {},
          "output_type": "execute_result"
        },
        {
          "data": {
            "image/png": "[encoded data removed]",
            "text/plain": [
              "<Figure size 640x480 with 1 Axes>"
            ]
          },
          "metadata": {},
          "output_type": "display_data"
        }
      ],
      "source": [
        "import matplotlib.pyplot as plt\n",
        "plt.plot(trainer.train_np_loss_record)\n",
        "plt.plot(trainer.train_ns_loss_record)\n",
        "plt.plot(trainer.train_loss_record)"
      ]
    }
  ],
  "metadata": {
    "kernelspec": {
      "display_name": "Python 3",
      "name": "python3"
    },
    "language_info": {
      "codemirror_mode": {
        "name": "ipython",
        "version": 3
      },
      "file_extension": ".py",
      "mimetype": "text/x-python",
      "name": "python",
      "nbconvert_exporter": "python",
      "pygments_lexer": "ipython3",
      "version": "3.10.11"
    },
    "orig_nbformat": 4,
    "colab": {
      "provenance": [],
      "gpuType": "T4"
    },
    "accelerator": "GPU"
  },
  "nbformat": 4,
  "nbformat_minor": 0
}