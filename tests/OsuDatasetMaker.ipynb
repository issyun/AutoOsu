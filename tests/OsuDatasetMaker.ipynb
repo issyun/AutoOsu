{
  "nbformat": 4,
  "nbformat_minor": 0,
  "metadata": {
    "colab": {
      "provenance": [],
      "collapsed_sections": [
        "7PaXuzFcRZpu"
      ]
    },
    "kernelspec": {
      "name": "python3",
      "display_name": "Python 3"
    },
    "language_info": {
      "name": "python"
    }
  },
  "cells": [
    {
      "cell_type": "markdown",
      "source": [
        "# Osu Dataset Maker\n",
        "\n",
        "**How To Use**\n",
        "\n",
        "\n",
        "*   Make 'osu_dataset' folder.\n",
        "*   Put .osz files downloaded from osu beatmap website into the folder.\n",
        "*   Run the code.\n",
        "\n",
        "\n",
        "\n",
        "\n",
        "**File Name Format**\n",
        "\n",
        "\n",
        "*   {setId}-{star_rating}-{key_count}.osu\n",
        "\n",
        "*   {setId}.mp3\n",
        "  *  {setId} : beatmap set id (can search in osu beatmap website by this id)\n",
        "  *  {key_count} : number of using keys\n",
        "  *  {star_rating} : osu ★ difficulty\n",
        " \n",
        "*  ex) 443632-163-4.osu \n",
        " *  ID 443632\n",
        " *  ★ 1.63\n",
        " *  4 key \n",
        "\n",
        "※ Each songs can have more than 1 beatmap.\n",
        "(different difficulty or key)\n"
      ],
      "metadata": {
        "id": "afCCJ_u00BNY"
      }
    },
    {
      "cell_type": "code",
      "execution_count": null,
      "metadata": {
        "id": "lWNi5qIqz5cU"
      },
      "outputs": [],
      "source": [
        "# import libraries\n",
        "\n",
        "import os\n",
        "import zipfile\n",
        "import re\n",
        "import requests\n",
        "from bs4 import BeautifulSoup"
      ]
    },
    {
      "cell_type": "code",
      "source": [
        "# input the folder path\n",
        "\n",
        "folder_path = 'osu_dataset' # <== folder path name"
      ],
      "metadata": {
        "id": "tDPN3H6J9_8j"
      },
      "execution_count": 2,
      "outputs": []
    },
    {
      "cell_type": "code",
      "source": [
        "# make .osz files list\n",
        "\n",
        "file_list = os.listdir(folder_path)\n",
        "osz_files = [os.path.join(folder_path, file) for file in file_list if file.endswith('.osz')]\n",
        "osz_files"
      ],
      "metadata": {
        "colab": {
          "base_uri": "https://localhost:8080/"
        },
        "id": "1Y9in8dPBuwY",
        "outputId": "884603d5-547d-4b0a-e2f3-aeb87c7fbb16"
      },
      "execution_count": null,
      "outputs": [
        {
          "output_type": "execute_result",
          "data": {
            "text/plain": [
              "['osu_dataset/63089 fripSide - only my railgun (TV Size).osz',\n",
              " 'osu_dataset/106212 LeaF - MEPHISTO.osz',\n",
              " 'osu_dataset/126752 Yun_chi - Your song_.osz']"
            ]
          },
          "metadata": {},
          "execution_count": 12
        }
      ]
    },
    {
      "cell_type": "code",
      "source": [
        "'''\n",
        "Functions for\n",
        "1. unzip .osz files\n",
        "2. rename .osu .mp3 files\n",
        "'''\n",
        "\n",
        "def unzip_osz(file_path):\n",
        "\n",
        "  # Change .osz to .zip\n",
        "  new_file_path = file_path[:-4] + '.zip'\n",
        "  os.rename(file_path, new_file_path)\n",
        "\n",
        "  # Unzip .zip\n",
        "  files = []\n",
        "  with zipfile.ZipFile(new_file_path, 'r') as zip_ref:\n",
        "    for file in zip_ref.namelist():\n",
        "      if file.endswith('.osu') or file.endswith('.mp3'):\n",
        "        zip_ref.extract(file, os.path.dirname(new_file_path))\n",
        "        files.append(file)\n",
        "\n",
        "  # Rename files\n",
        "  for i in range(len(files)):\n",
        "    if files[i].endswith('.mp3'):\n",
        "      tmp = files[i]\n",
        "      files[i] = files[len(files)-1]\n",
        "      files[len(files)-1] = tmp\n",
        "\n",
        "    if files[i].endswith('.osu'):\n",
        "      setId, star_rating, key_count = get_info(os.path.join(os.path.dirname(file_path), files[i]))\n",
        "      new_file_name = f\"{setId}-{star_rating}-{key_count}.osu\" \n",
        "      old_file_path = os.path.join(os.path.dirname(file_path), files[i])\n",
        "      new_file_path = os.path.join(os.path.dirname(file_path), new_file_name)\n",
        "      os.rename(old_file_path, new_file_path)\n",
        "    elif files[i].endswith('.mp3'):\n",
        "      new_file_name = f\"{setId}.mp3\" \n",
        "      old_file_path = os.path.join(os.path.dirname(file_path), files[i])\n",
        "      new_file_path = os.path.join(os.path.dirname(file_path), new_file_name)\n",
        "      os.rename(old_file_path, new_file_path)\n",
        "\n",
        "# get infos from .osu file and web( using crawler() function below )\n",
        "def get_info(file):\n",
        "  with open(file, mode='r', encoding='utf-8') as f:\n",
        "      raw_content = f.read().splitlines()\n",
        "\n",
        "  start_index = raw_content.index('[Metadata]')\n",
        "  id = re.sub(r\"\\D\", \"\", raw_content[start_index + 9])  # 숫자가 아닌 문자 제거\n",
        "  setId = re.sub(r\"\\D\", \"\", raw_content[start_index + 10])\n",
        "\n",
        "  star_rating, key_count = crawler(setId, id)\n",
        "\n",
        "  return (setId, star_rating, key_count)\n",
        "  \n",
        "# get infos from web\n",
        "def crawler(setId, id):\n",
        "  url = \"https://osu.ppy.sh/beatmapsets/\" + str(setId) + \"#mania/\" + str(id)\n",
        "  web = requests.get(url)\n",
        "  soup = BeautifulSoup(web.content, \"html.parser\")\n",
        "  # find datas\n",
        "  text =soup.find('script', attrs={\"id\" : \"json-beatmapset\"}).get_text()\n",
        "\n",
        "  idx =text.find(str(id))\n",
        "  sr_idx = text[:idx].rfind(\"diff\")\n",
        "  kc_idx = text[idx:].find(\"cs\")+idx\n",
        "\n",
        "  star_rating = text[sr_idx-1:sr_idx+23]\n",
        "  key_count = text[kc_idx-1:kc_idx+5]\n",
        "  return re.sub(r\"\\D\", \"\", star_rating), re.sub(r\"\\D\", \"\", key_count)"
      ],
      "metadata": {
        "id": "5Fn_TOf-BRd-"
      },
      "execution_count": null,
      "outputs": []
    },
    {
      "cell_type": "code",
      "source": [
        "# Run the functions for the given .osz files\n",
        "\n",
        "for osz in osz_files:\n",
        "  print(osz)\n",
        "  unzip_osz(osz)"
      ],
      "metadata": {
        "colab": {
          "base_uri": "https://localhost:8080/"
        },
        "id": "RStJiOhXDeHM",
        "outputId": "fafa2be3-8492-4b93-c714-466840fd17f2"
      },
      "execution_count": null,
      "outputs": [
        {
          "output_type": "stream",
          "name": "stdout",
          "text": [
            "osu_dataset/63089 fripSide - only my railgun (TV Size).osz\n",
            "osu_dataset/106212 LeaF - MEPHISTO.osz\n",
            "osu_dataset/126752 Yun_chi - Your song_.osz\n"
          ]
        }
      ]
    },
    {
      "cell_type": "markdown",
      "source": [
        "\n",
        "\n",
        "---\n",
        "\n"
      ],
      "metadata": {
        "id": "cWrr_uIUTHP6"
      }
    },
    {
      "cell_type": "markdown",
      "source": [
        "To use only real osumania beatmap,\n",
        "run the code below\n",
        "\n",
        "*OsuMania 호환 Osu 비트맵 지우는 코드, 실행하면 찐 osumania 비트맵만 남기기 가능*"
      ],
      "metadata": {
        "id": "13B7Bt5tSZcG"
      }
    },
    {
      "cell_type": "code",
      "source": [
        "file_list = os.listdir(folder_path)\n",
        "osu_files = [os.path.join(folder_path, file) for file in file_list if file.endswith('.osu')]\n",
        "for osu_path in osu_files:\n",
        "  with open(osu_path, mode='r', encoding='utf-8') as f:\n",
        "      raw_content = f.read().splitlines()\n",
        "\n",
        "  start_index = raw_content.index('[General]')\n",
        "  mode = re.sub(r\"\\D\", \"\", raw_content[start_index + 7])  # 숫자가 아닌 문자 제거\n",
        "  if mode != '3':\n",
        "    print('removed : ', osu_path)\n",
        "    os.remove(osu_path)"
      ],
      "metadata": {
        "id": "k46oXjFX-FDt"
      },
      "execution_count": null,
      "outputs": []
    },
    {
      "cell_type": "markdown",
      "source": [
        "\n",
        "\n",
        "---\n",
        "\n"
      ],
      "metadata": {
        "id": "qRm3_GhaZxQc"
      }
    },
    {
      "cell_type": "markdown",
      "source": [
        "Can set difficulty threshold (upper bound)\n",
        "\n",
        "To set, change the threshold value and run the code below.\n",
        "\n",
        "*Star rating 최댓값 설정 가능. 나머지 다 지워버림*"
      ],
      "metadata": {
        "id": "5FP6LscaTXTU"
      }
    },
    {
      "cell_type": "code",
      "source": [
        "upper_bound  = '270'  # format : 3 number string 2.17 => 217\n",
        "\n",
        "file_list = os.listdir(folder_path)\n",
        "for file in file_list:\n",
        "  if file.endswith('.osu'):\n",
        "    star_rating = file.split('-')[1]\n",
        "\n",
        "    if len(star_rating) == 1:\n",
        "      star_rating = star_rating+'00'\n",
        "    elif len(star_rating) == 2:\n",
        "      star_rating = star_rating+'0'\n",
        "\n",
        "    if star_rating > upper_bound:\n",
        "      print('removed : ', file)\n",
        "      os.remove(os.path.join(folder_path, file))\n"
      ],
      "metadata": {
        "colab": {
          "base_uri": "https://localhost:8080/"
        },
        "id": "i5lrJLRBTJL-",
        "outputId": "2eb7661f-f84f-43a9-bd2f-45fd84461234"
      },
      "execution_count": null,
      "outputs": [
        {
          "output_type": "stream",
          "name": "stdout",
          "text": [
            "removed :  126752-283-4.osu\n",
            "removed :  106212-285-4.osu\n"
          ]
        }
      ]
    },
    {
      "cell_type": "markdown",
      "source": [
        "\n",
        "\n",
        "---\n",
        "\n"
      ],
      "metadata": {
        "id": "oOZ023oGZuVb"
      }
    },
    {
      "cell_type": "markdown",
      "source": [
        "Remove .zip file and remain only .osu or .mp3 (cannot undo)"
      ],
      "metadata": {
        "id": "frwSKlKNZPOR"
      }
    },
    {
      "cell_type": "code",
      "source": [
        "file_list = os.listdir(folder_path)\n",
        "for file in file_list:\n",
        "  if file.endswith('.zip'):\n",
        "    print('removed : ', file)\n",
        "    os.remove(os.path.join(folder_path, file))\n"
      ],
      "metadata": {
        "colab": {
          "base_uri": "https://localhost:8080/"
        },
        "id": "ZwVTlaJ1ZOnY",
        "outputId": "255814bd-49c9-4879-ce9f-8360d7de1c7a"
      },
      "execution_count": null,
      "outputs": [
        {
          "output_type": "stream",
          "name": "stdout",
          "text": [
            "removed :  63089 fripSide - only my railgun (TV Size).zip\n",
            "removed :  126752 Yun_chi - Your song_.zip\n",
            "removed :  106212 LeaF - MEPHISTO.zip\n"
          ]
        }
      ]
    },
    {
      "cell_type": "markdown",
      "source": [
        "\n",
        "\n",
        "---\n",
        "\n"
      ],
      "metadata": {
        "id": "Mys112PKZoTe"
      }
    },
    {
      "cell_type": "markdown",
      "source": [
        "# 일반쓰레기\n",
        "\n",
        "쓰다버린코드 아카이브"
      ],
      "metadata": {
        "id": "7PaXuzFcRZpu"
      }
    },
    {
      "cell_type": "code",
      "source": [
        "#Trashes\n",
        "  '''\n",
        "  url = \"https://osu.ppy.sh/beatmapsets/\" + str(setId) + \"#mania/\" + str(id) \n",
        "  print(url)\n",
        "  response = requests.get(url)\n",
        "  time.sleep(3)\n",
        "  soup = BeautifulSoup(response.content, 'html.parser')\n",
        "  print(soup)\n",
        "  key_count = soup.find('th', attrs={\"class\": \"beatmap-stats-table__label\"}, string = \"Key Count\")\n",
        "  print(key_count)\n",
        "  key_count = key_count.find_next_sibling('td', class_='beatmap-stats-table__value').text\n",
        "\n",
        "  star_rating = soup.find('th', attrs={\"class\": \"beatmap-stats-table__label\"}, string = \"Star Rating\")\n",
        "  star_rating = star_rating.find_next_sibling('td', class_='beatmap-stats-table__value').text\n",
        "  '''\n",
        "\n",
        "  '''\n",
        "  setId, star_rating, key_count = get_info(os.path.join(os.path.dirname(file_path), file))\n",
        "  new_file_name = f\"{setId}-{star_rating}-{key_count}.osu\"  # 새로운 파일 이름 생성\n",
        "  extracted_path = os.path.join(os.path.dirname(new_file_path), new_file_name)\n",
        "  zip_ref.extract(file, extracted_path)\n",
        "  '''\n",
        "  \n",
        "  '''    \n",
        "  for file in zip_ref.namelist():\n",
        "    if file.endswith('.mp3'):\n",
        "      new_file_name = f\"{setId}.osu\"  # 새로운 파일 이름 생성\n",
        "      extracted_path = os.path.join(os.path.dirname(new_file_path), new_file_name)\n",
        "      zip_ref.extract(file, os.path.dirname(new_file_path))\n",
        "  '''"
      ],
      "metadata": {
        "id": "OGPEHPzvM3dG"
      },
      "execution_count": null,
      "outputs": []
    },
    {
      "cell_type": "code",
      "source": [
        "#전체삭제코드\n",
        "file_list = os.listdir(folder_path)\n",
        "files = [os.path.join(folder_path, file) for file in file_list]\n",
        "for file in files:\n",
        "  os.remove(file)"
      ],
      "metadata": {
        "id": "0xDGpkZlT0zk"
      },
      "execution_count": null,
      "outputs": []
    }
  ]
}