{
 "cells": [
  {
   "attachments": {},
   "cell_type": "markdown",
   "metadata": {},
   "source": [
    "# Beatmap Conversion Test"
   ]
  },
  {
   "attachments": {},
   "cell_type": "markdown",
   "metadata": {},
   "source": [
    "## Hit Object Syntax\n",
    "x,y,time,type,hitSound,objectParams,hitSample\n",
    "\n",
    "Hold syntax: x,y,time,type,hitSound,endTime:hitSample\n",
    "\n",
    "### Parameters\n",
    "* x (Integer) and y (Integer): Position in osu! pixels of the object.\n",
    "    * 0: Hit circle\n",
    "    * 1: Slider\n",
    "    * 3: Spinner\n",
    "    * 7: osu!mania hold\n",
    "* time (Integer): Time when the object is to be hit, in milliseconds from the beginning of the beatmap's audio.\n",
    "* type (Integer): Bit flags indicating the type of the object. See the type section.\n",
    "* hitSound (Integer): Bit flags indicating the hitsound applied to the object. See the hitsounds section.\n",
    "* objectParams (Comma-separated list): Extra parameters specific to the object's type.\n",
    "* hitSample (Colon-separated list): Information about which samples are played when the object is hit. It is closely related to hitSound; see the hitsounds section. If it is not written, it defaults to 0:0:0:0:.\n",
    "\n",
    "### Hold-note exclusive parameters\n",
    "* endTime (Integer): End time of the hold, in milliseconds from the beginning of the beatmap's audio.\n",
    "* x determines the index of the column that the hold will be in. It is computed by floor(x * columnCount / 512) and clamped between 0 and columnCount - 1.\n",
    "* y does not affect holds. It defaults to the centre of the playfield, 192."
   ]
  },
  {
   "cell_type": "code",
   "execution_count": 51,
   "metadata": {},
   "outputs": [],
   "source": [
    "from pathlib import Path\n",
    "import torch"
   ]
  },
  {
   "cell_type": "code",
   "execution_count": 2,
   "metadata": {},
   "outputs": [],
   "source": [
    "fn = Path('data/er.osu')"
   ]
  },
  {
   "cell_type": "code",
   "execution_count": 52,
   "metadata": {},
   "outputs": [],
   "source": [
    "def parse_beatmap(fn):\n",
    "    with open(fn, mode='r', encoding='utf-8') as f:\n",
    "        raw_content = f.read().splitlines()\n",
    "    start_index = raw_content.index('[HitObjects]')\n",
    "    beatmap = raw_content[start_index + 1:]\n",
    "\n",
    "    obj_list = []\n",
    "    xpos_list = set()\n",
    "    xpos2num = {}\n",
    "\n",
    "    for obj in beatmap:\n",
    "        obj_split = obj.split(',')\n",
    "        time = int(obj_split[2])\n",
    "        xpos = int(obj_split[0])\n",
    "        is_longnote = obj_split[3] != '1'\n",
    "        end_time = obj_split[5].split(':', 1)[0] if is_longnote else 0\n",
    "\n",
    "        obj_list.append([time, xpos, int(is_longnote), int(end_time)])\n",
    "        xpos_list.add(xpos)\n",
    "\n",
    "    xpos_list = sorted(xpos_list)\n",
    "    xpos2num = {xpos: num for num, xpos in enumerate(xpos_list)}\n",
    "\n",
    "    obj_list = [[obj[0], xpos2num[obj[1]], obj[2], obj[3]] for obj in obj_list]\n",
    "\n",
    "    obj_tensor = torch.LongTensor(obj_list)\n",
    "\n",
    "    return obj_tensor"
   ]
  },
  {
   "cell_type": "code",
   "execution_count": 56,
   "metadata": {},
   "outputs": [
    {
     "data": {
      "text/plain": [
       "tensor([[  840,     0,     0,     0],\n",
       "        [  840,     1,     0,     0],\n",
       "        [ 1150,     1,     0,     0],\n",
       "        ...,\n",
       "        [83391,     3,     0,     0],\n",
       "        [83598,     0,     1, 85253],\n",
       "        [83598,     2,     1, 85253]])"
      ]
     },
     "execution_count": 56,
     "metadata": {},
     "output_type": "execute_result"
    }
   ],
   "source": [
    "beatmap = parse_beatmap(fn)\n",
    "beatmap"
   ]
  },
  {
   "cell_type": "code",
   "execution_count": 69,
   "metadata": {},
   "outputs": [],
   "source": [
    "def convert_beatmap(beatmap:torch.Tensor, time_resolution:float):\n",
    "    time_tensor = beatmap[:, 0]\n",
    "    min_time_diff = torch.min(torch.diff(time_tensor.unique_consecutive()))\n",
    "    scaling_factor = time_resolution / min_time_diff.item()\n",
    "    quantized_tensor = torch.round(time_tensor * scaling_factor) * time_resolution\n",
    "\n",
    "    return quantized_tensor"
   ]
  },
  {
   "cell_type": "code",
   "execution_count": 70,
   "metadata": {},
   "outputs": [
    {
     "data": {
      "text/plain": [
       "tensor([  820.,   820.,  1120.,  1420.,  2020.,  2420.,  2720.,  3020.,  3630.,\n",
       "         4030.,  4330.,  4630.,  5640.,  5840.,  6040.,  6240.,  6440.,  6640.,\n",
       "         6840.,  7040.,  7240.,  7240.,  7640.,  8050.,  8050.,  8450.,  8850.,\n",
       "         8850.,  9250.,  9650.,  9650., 10060., 10460., 10460., 11060., 11260.,\n",
       "        11260., 11860., 12060., 12060., 12470., 12870., 12870., 13070., 13270.,\n",
       "        13470., 13670., 13670., 13870., 14070., 14270., 14470., 14670., 14880.,\n",
       "        15080., 15280., 15280., 15480., 15680., 15880., 16080., 16280., 16480.,\n",
       "        16680., 16880., 16880., 17090., 17390., 17690., 17690., 17990., 18290.,\n",
       "        18490., 18490., 18890., 19300., 19300., 19500., 19700., 19900., 19900.,\n",
       "        20500., 21710., 21710., 22510., 23110., 23310., 23310., 24120., 24920.,\n",
       "        24920., 25720., 26330., 26530., 26530., 27330., 27330., 27730., 27730.,\n",
       "        28130., 28330., 28530., 28740., 28940., 28940., 29340., 29540., 29740.,\n",
       "        29940., 30140., 30340., 30540., 30540., 30950., 31150., 31350., 31350.,\n",
       "        31750., 31950., 32150., 32150., 32550., 32750., 32950., 32950., 33760.,\n",
       "        33960., 34160., 34360., 34560., 34560., 34960., 35370., 35370., 35670.,\n",
       "        35970., 36170., 36170., 36570., 36970., 37270., 37570., 37770., 37770.,\n",
       "        38180., 38580., 38580., 38880., 39180., 39380., 39380., 39680., 39980.,\n",
       "        40190., 40190., 40590., 40590., 40990., 40990., 41390., 41790., 41790.,\n",
       "        42190., 42190., 42400., 42600., 42600., 43000., 43400., 43400., 43800.,\n",
       "        43800., 44000., 44200., 44200., 44600., 45010., 45010., 45410., 45810.,\n",
       "        45810., 46210., 46610., 46610., 47020., 47420., 47520., 47720., 47820.,\n",
       "        48020., 48020., 48320., 48320., 48620., 48620., 48820., 48820., 49020.,\n",
       "        49020., 49330., 49630., 50230., 50430., 50630., 50630., 50930., 51230.,\n",
       "        51840., 52040., 52240., 52240., 52540., 52840., 53240., 53440., 53640.,\n",
       "        53840., 53840., 54250., 54650., 55450., 55450., 55750., 56050., 56660.,\n",
       "        56860., 57060., 57060., 57360., 57660., 58260., 58470., 58670., 58670.,\n",
       "        58970., 59270., 59670., 59870., 60070., 60270., 60270., 60670., 61080.,\n",
       "        61080., 61280., 61480., 61680., 61880., 61880., 62180., 62480., 63080.,\n",
       "        63290., 63490., 63490., 63790., 64090., 64690., 64890., 65090., 65090.,\n",
       "        65400., 65700., 66100., 66300., 66500., 66700., 66700., 67100., 67500.,\n",
       "        67910., 68310., 68310., 68510., 68710., 68910., 69110., 69110., 69310.,\n",
       "        69510., 69710., 69910., 69910., 70120., 70320., 70520., 70720., 70720.,\n",
       "        70920., 71120., 71320., 71520., 71520., 71920., 71920., 72330., 72330.,\n",
       "        72730., 72730., 73130., 73130., 73330., 73530., 73530., 73730., 73930.,\n",
       "        73930., 74130., 74330., 74530., 74730., 74730., 75140., 75140., 75540.,\n",
       "        75540., 75740., 75940., 75940., 76140., 76340., 76340., 76740., 76740.,\n",
       "        77150., 77150., 77350., 77550., 77550., 77750., 77950., 77950., 78150.,\n",
       "        78350., 78550., 78750., 78750., 78950., 79150., 79360., 79560., 79560.,\n",
       "        79760., 79960., 79960., 80160., 80160., 80360., 80560., 80760., 80960.,\n",
       "        81160., 81160.])"
      ]
     },
     "execution_count": 70,
     "metadata": {},
     "output_type": "execute_result"
    }
   ],
   "source": [
    "convert_beatmap(beatmap, time_resolution=10)"
   ]
  }
 ],
 "metadata": {
  "kernelspec": {
   "display_name": "Python 3",
   "language": "python",
   "name": "python3"
  },
  "language_info": {
   "codemirror_mode": {
    "name": "ipython",
    "version": 3
   },
   "file_extension": ".py",
   "mimetype": "text/x-python",
   "name": "python",
   "nbconvert_exporter": "python",
   "pygments_lexer": "ipython3",
   "version": "3.9.13"
  },
  "orig_nbformat": 4
 },
 "nbformat": 4,
 "nbformat_minor": 2
}
