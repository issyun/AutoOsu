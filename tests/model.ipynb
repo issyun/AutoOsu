{
 "cells": [
  {
   "cell_type": "code",
   "execution_count": null,
   "metadata": {},
   "outputs": [],
   "source": [
    "import torch\n",
    "import torch.nn as nn\n",
    "from pathlib import Path\n",
    "\n",
    "torch.set_printoptions(sci_mode=False)\n",
    "RANDOM_SEED = 1"
   ]
  },
  {
   "cell_type": "code",
   "execution_count": null,
   "metadata": {},
   "outputs": [],
   "source": [
    "class OsuDataset:\n",
    "    def __init__(self, data_path):\n",
    "        self.fns = sorted(list(data_path.glob('*.pt')))\n",
    "    \n",
    "    def __len__(self):\n",
    "        return len(self.fns)\n",
    "    \n",
    "    def __getitem__(self, idx):\n",
    "        audio, beat_phase, beatmap, difficulty = torch.load(self.fns[idx]).values()\n",
    "        return audio, beat_phase, beatmap, difficulty"
   ]
  },
  {
   "cell_type": "code",
   "execution_count": null,
   "metadata": {},
   "outputs": [],
   "source": [
    "base_set = OsuDataset(Path('../osu_dataset/4keys/'))\n",
    "generator = torch.Generator().manual_seed(RANDOM_SEED)\n",
    "train_set, valid_set = torch.utils.data.random_split(base_set, [0.8, 0.2], generator)"
   ]
  },
  {
   "cell_type": "code",
   "execution_count": null,
   "metadata": {},
   "outputs": [],
   "source": [
    "class AudioEncoder(nn.Module):\n",
    "    def __init__(self):\n",
    "        super().__init__()\n",
    "        self.layers = nn.Sequential(\n",
    "            \n",
    "        )"
   ]
  }
 ],
 "metadata": {
  "language_info": {
   "name": "python"
  },
  "orig_nbformat": 4
 },
 "nbformat": 4,
 "nbformat_minor": 2
}
